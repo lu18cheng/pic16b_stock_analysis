{
 "cells": [
  {
   "cell_type": "code",
   "execution_count": 16,
   "id": "6a7f536f",
   "metadata": {},
   "outputs": [],
   "source": [
    "import sqlite3\n",
    "import pandas as pd"
   ]
  },
  {
   "cell_type": "code",
   "execution_count": 17,
   "id": "076bc66c",
   "metadata": {},
   "outputs": [],
   "source": [
    "# Create a connection\n",
    "conn = sqlite3.connect(\"../db/stocks.db\")"
   ]
  },
  {
   "cell_type": "code",
   "execution_count": 18,
   "id": "10d2654f",
   "metadata": {},
   "outputs": [],
   "source": [
    "# Function to add the table to the database\n",
    "def add_data(address, table_name):\n",
    "    f = pd.read_csv(address)\n",
    "    \n",
    "#     #converge date to datetime type\n",
    "#     if 'Date' in f.columns:\n",
    "#         f['Date'] = pd.to_datetime(f['Date'])\n",
    "#     elif 'DATE' in f.columns:\n",
    "#         f['DATE'] = pd.to_datetime(f['DATE'])\n",
    "    \n",
    "    f.to_sql(table_name, conn, if_exists = \"replace\", index = False)"
   ]
  },
  {
   "cell_type": "code",
   "execution_count": 19,
   "id": "179bfd12",
   "metadata": {},
   "outputs": [],
   "source": [
    "# Adding the tables\n",
    "\n",
    "add_data(\"../stock_data/IVW_daily.csv\", \"growth_stock\")\n",
    "add_data(\"../stock_data/IVE_daily.csv\", \"value_stock\")\n",
    "add_data(\"../economy_data/5y_breakeven_inflation_rate.csv\", \"inflation_5yr\")\n",
    "add_data(\"../economy_data/CAD_USD.csv\", \"exchange\")\n",
    "add_data(\"../economy_data/cpi_growth.csv\", \"CPI\")\n",
    "add_data(\"../economy_data/debt_to_gdp.csv\", \"leverage\")\n",
    "add_data(\"../economy_data/govt_exp_growth.csv\", \"spending\")\n",
    "add_data(\"../economy_data/real_gdp_growth.csv\", \"GDP\")\n",
    "add_data(\"../economy_data/treasury_yield_10years.csv\", \"treasury_10yr\")"
   ]
  },
  {
   "cell_type": "code",
   "execution_count": 20,
   "id": "da86f89c",
   "metadata": {},
   "outputs": [
    {
     "name": "stdout",
     "output_type": "stream",
     "text": [
      "[('growth_stock',), ('value_stock',), ('inflation_5yr',), ('exchange',), ('CPI',), ('leverage',), ('spending',), ('GDP',), ('treasury_10yr',)]\n"
     ]
    }
   ],
   "source": [
    "# Checking the database\n",
    "cursor = conn.cursor()\n",
    "cursor.execute(\"SELECT name FROM sqlite_master WHERE type='table'\")\n",
    "print(cursor.fetchall())"
   ]
  },
  {
   "cell_type": "code",
   "execution_count": 21,
   "id": "1a4a5121",
   "metadata": {},
   "outputs": [],
   "source": [
    "# Close the connection \n",
    "conn.close()"
   ]
  },
  {
   "cell_type": "code",
   "execution_count": null,
   "id": "5b53758e",
   "metadata": {},
   "outputs": [],
   "source": []
  }
 ],
 "metadata": {
  "kernelspec": {
   "display_name": "Python [conda env:PIC16B] *",
   "language": "python",
   "name": "conda-env-PIC16B-py"
  },
  "language_info": {
   "codemirror_mode": {
    "name": "ipython",
    "version": 3
   },
   "file_extension": ".py",
   "mimetype": "text/x-python",
   "name": "python",
   "nbconvert_exporter": "python",
   "pygments_lexer": "ipython3",
   "version": "3.8.12"
  }
 },
 "nbformat": 4,
 "nbformat_minor": 5
}
