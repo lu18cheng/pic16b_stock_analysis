{
 "cells": [
  {
   "cell_type": "markdown",
   "id": "17f97592",
   "metadata": {},
   "source": [
    "## TensorFlow Regression Analysis"
   ]
  },
  {
   "cell_type": "markdown",
   "id": "03d76845",
   "metadata": {},
   "source": [
    "### Step 1: Obtain Dataset"
   ]
  },
  {
   "cell_type": "code",
   "execution_count": 1,
   "id": "0fb0d0e4",
   "metadata": {},
   "outputs": [],
   "source": [
    "import numpy as np\n",
    "import pandas as pd\n",
    "import sqlite3\n",
    "import os\n",
    "import matplotlib.pyplot as plt\n",
    "import seaborn as sns\n",
    "from sklearn.preprocessing import LabelEncoder\n",
    "from sklearn.model_selection import train_test_split\n",
    "from tensorflow.keras.layers import Input, Dense, Activation,Dropout\n",
    "from tensorflow.keras.models import Model\n",
    "from tensorflow.keras import layers\n",
    "import tensorflow as tf\n",
    "\n",
    "from funcs import load_stocks_dataframe"
   ]
  },
  {
   "cell_type": "code",
   "execution_count": 2,
   "id": "44064ce9",
   "metadata": {},
   "outputs": [],
   "source": [
    "df = load_stocks_dataframe()\n",
    "df = df.dropna()"
   ]
  },
  {
   "cell_type": "markdown",
   "id": "e3ecb9bd",
   "metadata": {},
   "source": [
    "### Step 2: Construct Function to Run the Model"
   ]
  },
  {
   "cell_type": "code",
   "execution_count": 5,
   "id": "4bcb773a",
   "metadata": {},
   "outputs": [],
   "source": [
    "from sklearn.preprocessing import StandardScaler\n",
    "from sklearn.metrics import mean_squared_error\n",
    "from math import sqrt\n",
    "\n",
    "def tfanalysis(target_stock, econ_variable, test_size):\n",
    "    y = df[target_stock]\n",
    "    X = df[econ_variable]\n",
    "\n",
    "    # convert to np array\n",
    "    X = np.array(X, dtype = np.float32)\n",
    "    y = np.array(y, dtype = np.float32)\n",
    "    \n",
    "    # split train and test data\n",
    "    X_train, X_test, y_train, y_test = train_test_split(X, y, test_size = test_size)\n",
    "    \n",
    "    # normalize the dataset\n",
    "    sc = StandardScaler()\n",
    "    X_train = sc.fit_transform(X_train)\n",
    "    X_test = sc.transform(X_test)\n",
    "    \n",
    "    # model training \n",
    "\n",
    "    # input layer\n",
    "    input_layer = Input(shape=(X.shape[1],))\n",
    "    dense_layer_1 = Dense(300, activation='relu')(input_layer)\n",
    "    dense_layer_2 = Dense(300, activation='relu')(dense_layer_1)\n",
    "    dense_layer_3 = Dense(300, activation='relu')(dense_layer_2)\n",
    "    # output layer\n",
    "    output = Dense(1)(dense_layer_3)\n",
    "\n",
    "    model1 = Model(inputs=input_layer, outputs=output)\n",
    "    model1.compile(loss=\"mean_squared_error\" , optimizer=\"adam\", metrics=[\"mean_squared_error\"])\n",
    "    \n",
    "    # train the model\n",
    "    history = model1.fit(X_train, y_train, batch_size=2, epochs=50, verbose=1, validation_split=0.2)\n",
    "    \n",
    "    # plot the mean square loss\n",
    "    plt.plot(history.history[\"mean_squared_error\"], label = \"training\")\n",
    "    plt.plot(history.history[\"val_mean_squared_error\"], label = \"validation\")\n",
    "    plt.gca().set(xlabel = \"epoch\", ylabel = \"accuracy\")\n",
    "    plt.legend()\n",
    "    \n",
    "    # total mean square loss\n",
    "    pred = model1.predict(X_test)\n",
    "    print(np.sqrt(mean_squared_error(y_test,pred)))\n",
    "    \n",
    "    return (pred, model1)"
   ]
  },
  {
   "cell_type": "markdown",
   "id": "7b1075ab",
   "metadata": {},
   "source": [
    "### Step 3: Experimentation"
   ]
  },
  {
   "cell_type": "markdown",
   "id": "0ec5ab42",
   "metadata": {},
   "source": [
    "#### 5 year Inflation"
   ]
  },
  {
   "cell_type": "code",
   "execution_count": 6,
   "id": "e8e14dbb",
   "metadata": {},
   "outputs": [
    {
     "name": "stderr",
     "output_type": "stream",
     "text": [
      "2022-02-24 00:36:54.451920: I tensorflow/core/platform/cpu_feature_guard.cc:145] This TensorFlow binary is optimized with Intel(R) MKL-DNN to use the following CPU instructions in performance critical operations:  SSE4.1 SSE4.2 AVX AVX2 FMA\n",
      "To enable them in non-MKL-DNN operations, rebuild TensorFlow with the appropriate compiler flags.\n",
      "2022-02-24 00:36:54.452252: I tensorflow/core/common_runtime/process_util.cc:115] Creating new thread pool with default inter op setting: 4. Tune using inter_op_parallelism_threads for best performance.\n"
     ]
    },
    {
     "name": "stdout",
     "output_type": "stream",
     "text": [
      "Train on 2069 samples, validate on 518 samples\n",
      "Epoch 1/50\n",
      "2069/2069 [==============================] - 12s 6ms/sample - loss: 0.0082 - mean_squared_error: 0.0082 - val_loss: 4.4055e-04 - val_mean_squared_error: 4.4055e-04\n",
      "Epoch 2/50\n",
      "2069/2069 [==============================] - 21s 10ms/sample - loss: 0.0018 - mean_squared_error: 0.0018 - val_loss: 3.0000e-04 - val_mean_squared_error: 3.0000e-04\n",
      "Epoch 3/50\n",
      "2069/2069 [==============================] - 9s 4ms/sample - loss: 2.5607e-04 - mean_squared_error: 2.5607e-04 - val_loss: 1.3629e-04 - val_mean_squared_error: 1.3629e-04\n",
      "Epoch 4/50\n",
      "2069/2069 [==============================] - 12s 6ms/sample - loss: 1.5186e-04 - mean_squared_error: 1.5186e-04 - val_loss: 1.3037e-04 - val_mean_squared_error: 1.3037e-04\n",
      "Epoch 5/50\n",
      "2069/2069 [==============================] - 12s 6ms/sample - loss: 1.5160e-04 - mean_squared_error: 1.5160e-04 - val_loss: 1.2911e-04 - val_mean_squared_error: 1.2911e-04\n",
      "Epoch 6/50\n",
      "2069/2069 [==============================] - 8s 4ms/sample - loss: 1.4923e-04 - mean_squared_error: 1.4923e-04 - val_loss: 1.1875e-04 - val_mean_squared_error: 1.1875e-04\n",
      "Epoch 7/50\n",
      "2069/2069 [==============================] - 10s 5ms/sample - loss: 1.3419e-04 - mean_squared_error: 1.3419e-04 - val_loss: 1.2304e-04 - val_mean_squared_error: 1.2304e-04\n",
      "Epoch 8/50\n",
      "2069/2069 [==============================] - 11s 5ms/sample - loss: 1.4127e-04 - mean_squared_error: 1.4127e-04 - val_loss: 1.1572e-04 - val_mean_squared_error: 1.1572e-04\n",
      "Epoch 9/50\n",
      "2069/2069 [==============================] - 11s 5ms/sample - loss: 1.2909e-04 - mean_squared_error: 1.2909e-04 - val_loss: 1.3947e-04 - val_mean_squared_error: 1.3947e-04\n",
      "Epoch 10/50\n",
      "2069/2069 [==============================] - 8s 4ms/sample - loss: 1.2399e-04 - mean_squared_error: 1.2399e-04 - val_loss: 1.3017e-04 - val_mean_squared_error: 1.3017e-04\n",
      "Epoch 11/50\n",
      "2069/2069 [==============================] - 8s 4ms/sample - loss: 3.1331e-04 - mean_squared_error: 3.1331e-04 - val_loss: 1.5978e-04 - val_mean_squared_error: 1.5978e-04\n",
      "Epoch 12/50\n",
      "2069/2069 [==============================] - 8s 4ms/sample - loss: 1.2893e-04 - mean_squared_error: 1.2893e-04 - val_loss: 1.2086e-04 - val_mean_squared_error: 1.2086e-04\n",
      "Epoch 13/50\n",
      "2069/2069 [==============================] - 9s 4ms/sample - loss: 1.2420e-04 - mean_squared_error: 1.2420e-04 - val_loss: 1.1990e-04 - val_mean_squared_error: 1.1990e-04\n",
      "Epoch 14/50\n",
      "2069/2069 [==============================] - 8s 4ms/sample - loss: 1.2487e-04 - mean_squared_error: 1.2487e-04 - val_loss: 1.2069e-04 - val_mean_squared_error: 1.2069e-04\n",
      "Epoch 15/50\n",
      "2069/2069 [==============================] - 10s 5ms/sample - loss: 1.2558e-04 - mean_squared_error: 1.2558e-04 - val_loss: 1.1702e-04 - val_mean_squared_error: 1.1702e-04\n",
      "Epoch 16/50\n",
      "2069/2069 [==============================] - 11s 5ms/sample - loss: 1.2223e-04 - mean_squared_error: 1.2223e-04 - val_loss: 1.3263e-04 - val_mean_squared_error: 1.3263e-04\n",
      "Epoch 17/50\n",
      "2069/2069 [==============================] - 7s 3ms/sample - loss: 1.2533e-04 - mean_squared_error: 1.2533e-04 - val_loss: 1.1282e-04 - val_mean_squared_error: 1.1282e-04\n",
      "Epoch 18/50\n",
      "2069/2069 [==============================] - 8s 4ms/sample - loss: 1.2885e-04 - mean_squared_error: 1.2885e-04 - val_loss: 1.2306e-04 - val_mean_squared_error: 1.2306e-04\n",
      "Epoch 19/50\n",
      "2069/2069 [==============================] - 18s 9ms/sample - loss: 1.2261e-04 - mean_squared_error: 1.2261e-04 - val_loss: 1.1896e-04 - val_mean_squared_error: 1.1896e-04\n",
      "Epoch 20/50\n",
      "2069/2069 [==============================] - 13s 6ms/sample - loss: 1.2060e-04 - mean_squared_error: 1.2060e-04 - val_loss: 1.1821e-04 - val_mean_squared_error: 1.1821e-04\n",
      "Epoch 21/50\n",
      "2069/2069 [==============================] - 11s 5ms/sample - loss: 1.2365e-04 - mean_squared_error: 1.2365e-04 - val_loss: 1.1768e-04 - val_mean_squared_error: 1.1768e-04\n",
      "Epoch 22/50\n",
      "2069/2069 [==============================] - 22s 11ms/sample - loss: 1.2223e-04 - mean_squared_error: 1.2223e-04 - val_loss: 1.2568e-04 - val_mean_squared_error: 1.2568e-04\n",
      "Epoch 23/50\n",
      "2069/2069 [==============================] - 20s 10ms/sample - loss: 1.2135e-04 - mean_squared_error: 1.2135e-04 - val_loss: 1.1740e-04 - val_mean_squared_error: 1.1740e-04\n",
      "Epoch 24/50\n",
      "2069/2069 [==============================] - 12s 6ms/sample - loss: 1.2110e-04 - mean_squared_error: 1.2110e-04 - val_loss: 1.2045e-04 - val_mean_squared_error: 1.2045e-04\n",
      "Epoch 25/50\n",
      "2069/2069 [==============================] - 8s 4ms/sample - loss: 1.1988e-04 - mean_squared_error: 1.1988e-04 - val_loss: 1.2369e-04 - val_mean_squared_error: 1.2369e-04\n",
      "Epoch 26/50\n",
      "2069/2069 [==============================] - 7s 4ms/sample - loss: 1.2013e-04 - mean_squared_error: 1.2013e-04 - val_loss: 1.1956e-04 - val_mean_squared_error: 1.1956e-04\n",
      "Epoch 27/50\n",
      "2069/2069 [==============================] - 8s 4ms/sample - loss: 1.1969e-04 - mean_squared_error: 1.1969e-04 - val_loss: 2.5725e-04 - val_mean_squared_error: 2.5725e-04\n",
      "Epoch 28/50\n",
      "2069/2069 [==============================] - 13s 6ms/sample - loss: 1.2556e-04 - mean_squared_error: 1.2556e-04 - val_loss: 1.2557e-04 - val_mean_squared_error: 1.2557e-04\n",
      "Epoch 29/50\n",
      "2069/2069 [==============================] - 11s 5ms/sample - loss: 1.1999e-04 - mean_squared_error: 1.1999e-04 - val_loss: 1.4911e-04 - val_mean_squared_error: 1.4911e-04\n",
      "Epoch 30/50\n",
      "2069/2069 [==============================] - 12s 6ms/sample - loss: 1.1880e-04 - mean_squared_error: 1.1880e-04 - val_loss: 1.2049e-04 - val_mean_squared_error: 1.2049e-04\n",
      "Epoch 31/50\n",
      "2069/2069 [==============================] - 7s 3ms/sample - loss: 1.1912e-04 - mean_squared_error: 1.1912e-04 - val_loss: 1.2232e-04 - val_mean_squared_error: 1.2232e-04\n",
      "Epoch 32/50\n",
      "2069/2069 [==============================] - 8s 4ms/sample - loss: 1.1982e-04 - mean_squared_error: 1.1982e-04 - val_loss: 1.3654e-04 - val_mean_squared_error: 1.3654e-04\n",
      "Epoch 33/50\n",
      "2069/2069 [==============================] - 8s 4ms/sample - loss: 1.1865e-04 - mean_squared_error: 1.1865e-04 - val_loss: 1.3668e-04 - val_mean_squared_error: 1.3668e-04\n",
      "Epoch 34/50\n",
      "2069/2069 [==============================] - 15s 7ms/sample - loss: 1.1901e-04 - mean_squared_error: 1.1901e-04 - val_loss: 1.3647e-04 - val_mean_squared_error: 1.3647e-04\n",
      "Epoch 35/50\n",
      "2069/2069 [==============================] - 39s 19ms/sample - loss: 1.1940e-04 - mean_squared_error: 1.1940e-04 - val_loss: 1.2617e-04 - val_mean_squared_error: 1.2617e-04\n",
      "Epoch 36/50\n",
      "2069/2069 [==============================] - 16s 8ms/sample - loss: 1.1895e-04 - mean_squared_error: 1.1895e-04 - val_loss: 1.1839e-04 - val_mean_squared_error: 1.1839e-04\n",
      "Epoch 37/50\n",
      "2069/2069 [==============================] - 19s 9ms/sample - loss: 1.2047e-04 - mean_squared_error: 1.2047e-04 - val_loss: 1.2244e-04 - val_mean_squared_error: 1.2244e-04\n",
      "Epoch 38/50\n",
      "2069/2069 [==============================] - 12s 6ms/sample - loss: 1.1826e-04 - mean_squared_error: 1.1826e-04 - val_loss: 1.2701e-04 - val_mean_squared_error: 1.2701e-04\n",
      "Epoch 39/50\n",
      "2069/2069 [==============================] - 9s 4ms/sample - loss: 1.1767e-04 - mean_squared_error: 1.1767e-04 - val_loss: 1.1814e-04 - val_mean_squared_error: 1.1814e-04\n",
      "Epoch 40/50\n",
      "2069/2069 [==============================] - 14s 7ms/sample - loss: 1.1789e-04 - mean_squared_error: 1.1789e-04 - val_loss: 1.1723e-04 - val_mean_squared_error: 1.1723e-04\n",
      "Epoch 41/50\n",
      "2069/2069 [==============================] - 13s 6ms/sample - loss: 1.1953e-04 - mean_squared_error: 1.1953e-04 - val_loss: 1.1709e-04 - val_mean_squared_error: 1.1709e-04\n",
      "Epoch 42/50\n",
      "2069/2069 [==============================] - 10s 5ms/sample - loss: 1.1995e-04 - mean_squared_error: 1.1995e-04 - val_loss: 1.2078e-04 - val_mean_squared_error: 1.2078e-04\n",
      "Epoch 43/50\n",
      "2069/2069 [==============================] - 22s 11ms/sample - loss: 1.1948e-04 - mean_squared_error: 1.1948e-04 - val_loss: 1.1956e-04 - val_mean_squared_error: 1.1956e-04\n",
      "Epoch 44/50\n",
      "2069/2069 [==============================] - 18s 9ms/sample - loss: 1.2053e-04 - mean_squared_error: 1.2053e-04 - val_loss: 1.2285e-04 - val_mean_squared_error: 1.2285e-04\n",
      "Epoch 45/50\n"
     ]
    },
    {
     "name": "stdout",
     "output_type": "stream",
     "text": [
      "2069/2069 [==============================] - 19s 9ms/sample - loss: 1.1950e-04 - mean_squared_error: 1.1950e-04 - val_loss: 1.2831e-04 - val_mean_squared_error: 1.2831e-04\n",
      "Epoch 46/50\n",
      "2069/2069 [==============================] - 18s 9ms/sample - loss: 1.2055e-04 - mean_squared_error: 1.2055e-04 - val_loss: 1.1983e-04 - val_mean_squared_error: 1.1983e-04\n",
      "Epoch 47/50\n",
      "1082/2069 [==============>...............] - ETA: 5s - loss: 1.0829e-04 - mean_squared_error: 1.0829e-04"
     ]
    },
    {
     "ename": "KeyboardInterrupt",
     "evalue": "",
     "output_type": "error",
     "traceback": [
      "\u001b[0;31m---------------------------------------------------------------------------\u001b[0m",
      "\u001b[0;31mKeyboardInterrupt\u001b[0m                         Traceback (most recent call last)",
      "\u001b[0;32m/var/folders/dk/d608jq5d2cj3v5q29vgb48wh0000gn/T/ipykernel_65270/1799160541.py\u001b[0m in \u001b[0;36m<module>\u001b[0;34m\u001b[0m\n\u001b[0;32m----> 1\u001b[0;31m \u001b[0mmodel1\u001b[0m \u001b[0;34m=\u001b[0m \u001b[0mtfanalysis\u001b[0m\u001b[0;34m(\u001b[0m\u001b[0;34m\"GrowthStock_PercentChange\"\u001b[0m\u001b[0;34m,\u001b[0m \u001b[0;34m[\u001b[0m\u001b[0;34m\"inflation5yr_PercentChange\"\u001b[0m\u001b[0;34m]\u001b[0m\u001b[0;34m,\u001b[0m \u001b[0;36m0.3\u001b[0m\u001b[0;34m)\u001b[0m\u001b[0;34m[\u001b[0m\u001b[0;36m1\u001b[0m\u001b[0;34m]\u001b[0m\u001b[0;34m\u001b[0m\u001b[0;34m\u001b[0m\u001b[0m\n\u001b[0m",
      "\u001b[0;32m/var/folders/dk/d608jq5d2cj3v5q29vgb48wh0000gn/T/ipykernel_65270/367297574.py\u001b[0m in \u001b[0;36mtfanalysis\u001b[0;34m(target_stock, econ_variable, test_size)\u001b[0m\n\u001b[1;32m     33\u001b[0m \u001b[0;34m\u001b[0m\u001b[0m\n\u001b[1;32m     34\u001b[0m     \u001b[0;31m# train the model\u001b[0m\u001b[0;34m\u001b[0m\u001b[0;34m\u001b[0m\u001b[0;34m\u001b[0m\u001b[0m\n\u001b[0;32m---> 35\u001b[0;31m     \u001b[0mhistory\u001b[0m \u001b[0;34m=\u001b[0m \u001b[0mmodel1\u001b[0m\u001b[0;34m.\u001b[0m\u001b[0mfit\u001b[0m\u001b[0;34m(\u001b[0m\u001b[0mX_train\u001b[0m\u001b[0;34m,\u001b[0m \u001b[0my_train\u001b[0m\u001b[0;34m,\u001b[0m \u001b[0mbatch_size\u001b[0m\u001b[0;34m=\u001b[0m\u001b[0;36m2\u001b[0m\u001b[0;34m,\u001b[0m \u001b[0mepochs\u001b[0m\u001b[0;34m=\u001b[0m\u001b[0;36m50\u001b[0m\u001b[0;34m,\u001b[0m \u001b[0mverbose\u001b[0m\u001b[0;34m=\u001b[0m\u001b[0;36m1\u001b[0m\u001b[0;34m,\u001b[0m \u001b[0mvalidation_split\u001b[0m\u001b[0;34m=\u001b[0m\u001b[0;36m0.2\u001b[0m\u001b[0;34m)\u001b[0m\u001b[0;34m\u001b[0m\u001b[0;34m\u001b[0m\u001b[0m\n\u001b[0m\u001b[1;32m     36\u001b[0m \u001b[0;34m\u001b[0m\u001b[0m\n\u001b[1;32m     37\u001b[0m     \u001b[0;31m# plot the mean square loss\u001b[0m\u001b[0;34m\u001b[0m\u001b[0;34m\u001b[0m\u001b[0;34m\u001b[0m\u001b[0m\n",
      "\u001b[0;32m/opt/anaconda3/envs/PIC16B/lib/python3.7/site-packages/tensorflow_core/python/keras/engine/training.py\u001b[0m in \u001b[0;36mfit\u001b[0;34m(self, x, y, batch_size, epochs, verbose, callbacks, validation_split, validation_data, shuffle, class_weight, sample_weight, initial_epoch, steps_per_epoch, validation_steps, validation_freq, max_queue_size, workers, use_multiprocessing, **kwargs)\u001b[0m\n\u001b[1;32m    726\u001b[0m         \u001b[0mmax_queue_size\u001b[0m\u001b[0;34m=\u001b[0m\u001b[0mmax_queue_size\u001b[0m\u001b[0;34m,\u001b[0m\u001b[0;34m\u001b[0m\u001b[0;34m\u001b[0m\u001b[0m\n\u001b[1;32m    727\u001b[0m         \u001b[0mworkers\u001b[0m\u001b[0;34m=\u001b[0m\u001b[0mworkers\u001b[0m\u001b[0;34m,\u001b[0m\u001b[0;34m\u001b[0m\u001b[0;34m\u001b[0m\u001b[0m\n\u001b[0;32m--> 728\u001b[0;31m         use_multiprocessing=use_multiprocessing)\n\u001b[0m\u001b[1;32m    729\u001b[0m \u001b[0;34m\u001b[0m\u001b[0m\n\u001b[1;32m    730\u001b[0m   def evaluate(self,\n",
      "\u001b[0;32m/opt/anaconda3/envs/PIC16B/lib/python3.7/site-packages/tensorflow_core/python/keras/engine/training_v2.py\u001b[0m in \u001b[0;36mfit\u001b[0;34m(self, model, x, y, batch_size, epochs, verbose, callbacks, validation_split, validation_data, shuffle, class_weight, sample_weight, initial_epoch, steps_per_epoch, validation_steps, validation_freq, **kwargs)\u001b[0m\n\u001b[1;32m    322\u001b[0m                 \u001b[0mmode\u001b[0m\u001b[0;34m=\u001b[0m\u001b[0mModeKeys\u001b[0m\u001b[0;34m.\u001b[0m\u001b[0mTRAIN\u001b[0m\u001b[0;34m,\u001b[0m\u001b[0;34m\u001b[0m\u001b[0;34m\u001b[0m\u001b[0m\n\u001b[1;32m    323\u001b[0m                 \u001b[0mtraining_context\u001b[0m\u001b[0;34m=\u001b[0m\u001b[0mtraining_context\u001b[0m\u001b[0;34m,\u001b[0m\u001b[0;34m\u001b[0m\u001b[0;34m\u001b[0m\u001b[0m\n\u001b[0;32m--> 324\u001b[0;31m                 total_epochs=epochs)\n\u001b[0m\u001b[1;32m    325\u001b[0m             \u001b[0mcbks\u001b[0m\u001b[0;34m.\u001b[0m\u001b[0mmake_logs\u001b[0m\u001b[0;34m(\u001b[0m\u001b[0mmodel\u001b[0m\u001b[0;34m,\u001b[0m \u001b[0mepoch_logs\u001b[0m\u001b[0;34m,\u001b[0m \u001b[0mtraining_result\u001b[0m\u001b[0;34m,\u001b[0m \u001b[0mModeKeys\u001b[0m\u001b[0;34m.\u001b[0m\u001b[0mTRAIN\u001b[0m\u001b[0;34m)\u001b[0m\u001b[0;34m\u001b[0m\u001b[0;34m\u001b[0m\u001b[0m\n\u001b[1;32m    326\u001b[0m \u001b[0;34m\u001b[0m\u001b[0m\n",
      "\u001b[0;32m/opt/anaconda3/envs/PIC16B/lib/python3.7/site-packages/tensorflow_core/python/keras/engine/training_v2.py\u001b[0m in \u001b[0;36mrun_one_epoch\u001b[0;34m(model, iterator, execution_function, dataset_size, batch_size, strategy, steps_per_epoch, num_samples, mode, training_context, total_epochs)\u001b[0m\n\u001b[1;32m    121\u001b[0m         step=step, mode=mode, size=current_batch_size) as batch_logs:\n\u001b[1;32m    122\u001b[0m       \u001b[0;32mtry\u001b[0m\u001b[0;34m:\u001b[0m\u001b[0;34m\u001b[0m\u001b[0;34m\u001b[0m\u001b[0m\n\u001b[0;32m--> 123\u001b[0;31m         \u001b[0mbatch_outs\u001b[0m \u001b[0;34m=\u001b[0m \u001b[0mexecution_function\u001b[0m\u001b[0;34m(\u001b[0m\u001b[0miterator\u001b[0m\u001b[0;34m)\u001b[0m\u001b[0;34m\u001b[0m\u001b[0;34m\u001b[0m\u001b[0m\n\u001b[0m\u001b[1;32m    124\u001b[0m       \u001b[0;32mexcept\u001b[0m \u001b[0;34m(\u001b[0m\u001b[0mStopIteration\u001b[0m\u001b[0;34m,\u001b[0m \u001b[0merrors\u001b[0m\u001b[0;34m.\u001b[0m\u001b[0mOutOfRangeError\u001b[0m\u001b[0;34m)\u001b[0m\u001b[0;34m:\u001b[0m\u001b[0;34m\u001b[0m\u001b[0;34m\u001b[0m\u001b[0m\n\u001b[1;32m    125\u001b[0m         \u001b[0;31m# TODO(kaftan): File bug about tf function and errors.OutOfRangeError?\u001b[0m\u001b[0;34m\u001b[0m\u001b[0;34m\u001b[0m\u001b[0;34m\u001b[0m\u001b[0m\n",
      "\u001b[0;32m/opt/anaconda3/envs/PIC16B/lib/python3.7/site-packages/tensorflow_core/python/keras/engine/training_v2_utils.py\u001b[0m in \u001b[0;36mexecution_function\u001b[0;34m(input_fn)\u001b[0m\n\u001b[1;32m     84\u001b[0m     \u001b[0;31m# `numpy` translates Tensors to values in Eager mode.\u001b[0m\u001b[0;34m\u001b[0m\u001b[0;34m\u001b[0m\u001b[0;34m\u001b[0m\u001b[0m\n\u001b[1;32m     85\u001b[0m     return nest.map_structure(_non_none_constant_value,\n\u001b[0;32m---> 86\u001b[0;31m                               distributed_function(input_fn))\n\u001b[0m\u001b[1;32m     87\u001b[0m \u001b[0;34m\u001b[0m\u001b[0m\n\u001b[1;32m     88\u001b[0m   \u001b[0;32mreturn\u001b[0m \u001b[0mexecution_function\u001b[0m\u001b[0;34m\u001b[0m\u001b[0;34m\u001b[0m\u001b[0m\n",
      "\u001b[0;32m/opt/anaconda3/envs/PIC16B/lib/python3.7/site-packages/tensorflow_core/python/eager/def_function.py\u001b[0m in \u001b[0;36m__call__\u001b[0;34m(self, *args, **kwds)\u001b[0m\n\u001b[1;32m    455\u001b[0m \u001b[0;34m\u001b[0m\u001b[0m\n\u001b[1;32m    456\u001b[0m     \u001b[0mtracing_count\u001b[0m \u001b[0;34m=\u001b[0m \u001b[0mself\u001b[0m\u001b[0;34m.\u001b[0m\u001b[0m_get_tracing_count\u001b[0m\u001b[0;34m(\u001b[0m\u001b[0;34m)\u001b[0m\u001b[0;34m\u001b[0m\u001b[0;34m\u001b[0m\u001b[0m\n\u001b[0;32m--> 457\u001b[0;31m     \u001b[0mresult\u001b[0m \u001b[0;34m=\u001b[0m \u001b[0mself\u001b[0m\u001b[0;34m.\u001b[0m\u001b[0m_call\u001b[0m\u001b[0;34m(\u001b[0m\u001b[0;34m*\u001b[0m\u001b[0margs\u001b[0m\u001b[0;34m,\u001b[0m \u001b[0;34m**\u001b[0m\u001b[0mkwds\u001b[0m\u001b[0;34m)\u001b[0m\u001b[0;34m\u001b[0m\u001b[0;34m\u001b[0m\u001b[0m\n\u001b[0m\u001b[1;32m    458\u001b[0m     \u001b[0;32mif\u001b[0m \u001b[0mtracing_count\u001b[0m \u001b[0;34m==\u001b[0m \u001b[0mself\u001b[0m\u001b[0;34m.\u001b[0m\u001b[0m_get_tracing_count\u001b[0m\u001b[0;34m(\u001b[0m\u001b[0;34m)\u001b[0m\u001b[0;34m:\u001b[0m\u001b[0;34m\u001b[0m\u001b[0;34m\u001b[0m\u001b[0m\n\u001b[1;32m    459\u001b[0m       \u001b[0mself\u001b[0m\u001b[0;34m.\u001b[0m\u001b[0m_call_counter\u001b[0m\u001b[0;34m.\u001b[0m\u001b[0mcalled_without_tracing\u001b[0m\u001b[0;34m(\u001b[0m\u001b[0;34m)\u001b[0m\u001b[0;34m\u001b[0m\u001b[0;34m\u001b[0m\u001b[0m\n",
      "\u001b[0;32m/opt/anaconda3/envs/PIC16B/lib/python3.7/site-packages/tensorflow_core/python/eager/def_function.py\u001b[0m in \u001b[0;36m_call\u001b[0;34m(self, *args, **kwds)\u001b[0m\n\u001b[1;32m    485\u001b[0m       \u001b[0;31m# In this case we have created variables on the first call, so we run the\u001b[0m\u001b[0;34m\u001b[0m\u001b[0;34m\u001b[0m\u001b[0;34m\u001b[0m\u001b[0m\n\u001b[1;32m    486\u001b[0m       \u001b[0;31m# defunned version which is guaranteed to never create variables.\u001b[0m\u001b[0;34m\u001b[0m\u001b[0;34m\u001b[0m\u001b[0;34m\u001b[0m\u001b[0m\n\u001b[0;32m--> 487\u001b[0;31m       \u001b[0;32mreturn\u001b[0m \u001b[0mself\u001b[0m\u001b[0;34m.\u001b[0m\u001b[0m_stateless_fn\u001b[0m\u001b[0;34m(\u001b[0m\u001b[0;34m*\u001b[0m\u001b[0margs\u001b[0m\u001b[0;34m,\u001b[0m \u001b[0;34m**\u001b[0m\u001b[0mkwds\u001b[0m\u001b[0;34m)\u001b[0m  \u001b[0;31m# pylint: disable=not-callable\u001b[0m\u001b[0;34m\u001b[0m\u001b[0;34m\u001b[0m\u001b[0m\n\u001b[0m\u001b[1;32m    488\u001b[0m     \u001b[0;32melif\u001b[0m \u001b[0mself\u001b[0m\u001b[0;34m.\u001b[0m\u001b[0m_stateful_fn\u001b[0m \u001b[0;32mis\u001b[0m \u001b[0;32mnot\u001b[0m \u001b[0;32mNone\u001b[0m\u001b[0;34m:\u001b[0m\u001b[0;34m\u001b[0m\u001b[0;34m\u001b[0m\u001b[0m\n\u001b[1;32m    489\u001b[0m       \u001b[0;31m# Release the lock early so that multiple threads can perform the call\u001b[0m\u001b[0;34m\u001b[0m\u001b[0;34m\u001b[0m\u001b[0;34m\u001b[0m\u001b[0m\n",
      "\u001b[0;32m/opt/anaconda3/envs/PIC16B/lib/python3.7/site-packages/tensorflow_core/python/eager/function.py\u001b[0m in \u001b[0;36m__call__\u001b[0;34m(self, *args, **kwargs)\u001b[0m\n\u001b[1;32m   1821\u001b[0m     \u001b[0;34m\"\"\"Calls a graph function specialized to the inputs.\"\"\"\u001b[0m\u001b[0;34m\u001b[0m\u001b[0;34m\u001b[0m\u001b[0m\n\u001b[1;32m   1822\u001b[0m     \u001b[0mgraph_function\u001b[0m\u001b[0;34m,\u001b[0m \u001b[0margs\u001b[0m\u001b[0;34m,\u001b[0m \u001b[0mkwargs\u001b[0m \u001b[0;34m=\u001b[0m \u001b[0mself\u001b[0m\u001b[0;34m.\u001b[0m\u001b[0m_maybe_define_function\u001b[0m\u001b[0;34m(\u001b[0m\u001b[0margs\u001b[0m\u001b[0;34m,\u001b[0m \u001b[0mkwargs\u001b[0m\u001b[0;34m)\u001b[0m\u001b[0;34m\u001b[0m\u001b[0;34m\u001b[0m\u001b[0m\n\u001b[0;32m-> 1823\u001b[0;31m     \u001b[0;32mreturn\u001b[0m \u001b[0mgraph_function\u001b[0m\u001b[0;34m.\u001b[0m\u001b[0m_filtered_call\u001b[0m\u001b[0;34m(\u001b[0m\u001b[0margs\u001b[0m\u001b[0;34m,\u001b[0m \u001b[0mkwargs\u001b[0m\u001b[0;34m)\u001b[0m  \u001b[0;31m# pylint: disable=protected-access\u001b[0m\u001b[0;34m\u001b[0m\u001b[0;34m\u001b[0m\u001b[0m\n\u001b[0m\u001b[1;32m   1824\u001b[0m \u001b[0;34m\u001b[0m\u001b[0m\n\u001b[1;32m   1825\u001b[0m   \u001b[0;34m@\u001b[0m\u001b[0mproperty\u001b[0m\u001b[0;34m\u001b[0m\u001b[0;34m\u001b[0m\u001b[0m\n",
      "\u001b[0;32m/opt/anaconda3/envs/PIC16B/lib/python3.7/site-packages/tensorflow_core/python/eager/function.py\u001b[0m in \u001b[0;36m_filtered_call\u001b[0;34m(self, args, kwargs)\u001b[0m\n\u001b[1;32m   1139\u001b[0m          if isinstance(t, (ops.Tensor,\n\u001b[1;32m   1140\u001b[0m                            resource_variable_ops.BaseResourceVariable))),\n\u001b[0;32m-> 1141\u001b[0;31m         self.captured_inputs)\n\u001b[0m\u001b[1;32m   1142\u001b[0m \u001b[0;34m\u001b[0m\u001b[0m\n\u001b[1;32m   1143\u001b[0m   \u001b[0;32mdef\u001b[0m \u001b[0m_call_flat\u001b[0m\u001b[0;34m(\u001b[0m\u001b[0mself\u001b[0m\u001b[0;34m,\u001b[0m \u001b[0margs\u001b[0m\u001b[0;34m,\u001b[0m \u001b[0mcaptured_inputs\u001b[0m\u001b[0;34m,\u001b[0m \u001b[0mcancellation_manager\u001b[0m\u001b[0;34m=\u001b[0m\u001b[0;32mNone\u001b[0m\u001b[0;34m)\u001b[0m\u001b[0;34m:\u001b[0m\u001b[0;34m\u001b[0m\u001b[0;34m\u001b[0m\u001b[0m\n",
      "\u001b[0;32m/opt/anaconda3/envs/PIC16B/lib/python3.7/site-packages/tensorflow_core/python/eager/function.py\u001b[0m in \u001b[0;36m_call_flat\u001b[0;34m(self, args, captured_inputs, cancellation_manager)\u001b[0m\n\u001b[1;32m   1222\u001b[0m     \u001b[0;32mif\u001b[0m \u001b[0mexecuting_eagerly\u001b[0m\u001b[0;34m:\u001b[0m\u001b[0;34m\u001b[0m\u001b[0;34m\u001b[0m\u001b[0m\n\u001b[1;32m   1223\u001b[0m       flat_outputs = forward_function.call(\n\u001b[0;32m-> 1224\u001b[0;31m           ctx, args, cancellation_manager=cancellation_manager)\n\u001b[0m\u001b[1;32m   1225\u001b[0m     \u001b[0;32melse\u001b[0m\u001b[0;34m:\u001b[0m\u001b[0;34m\u001b[0m\u001b[0;34m\u001b[0m\u001b[0m\n\u001b[1;32m   1226\u001b[0m       \u001b[0mgradient_name\u001b[0m \u001b[0;34m=\u001b[0m \u001b[0mself\u001b[0m\u001b[0;34m.\u001b[0m\u001b[0m_delayed_rewrite_functions\u001b[0m\u001b[0;34m.\u001b[0m\u001b[0mregister\u001b[0m\u001b[0;34m(\u001b[0m\u001b[0;34m)\u001b[0m\u001b[0;34m\u001b[0m\u001b[0;34m\u001b[0m\u001b[0m\n",
      "\u001b[0;32m/opt/anaconda3/envs/PIC16B/lib/python3.7/site-packages/tensorflow_core/python/eager/function.py\u001b[0m in \u001b[0;36mcall\u001b[0;34m(self, ctx, args, cancellation_manager)\u001b[0m\n\u001b[1;32m    509\u001b[0m               \u001b[0minputs\u001b[0m\u001b[0;34m=\u001b[0m\u001b[0margs\u001b[0m\u001b[0;34m,\u001b[0m\u001b[0;34m\u001b[0m\u001b[0;34m\u001b[0m\u001b[0m\n\u001b[1;32m    510\u001b[0m               \u001b[0mattrs\u001b[0m\u001b[0;34m=\u001b[0m\u001b[0;34m(\u001b[0m\u001b[0;34m\"executor_type\"\u001b[0m\u001b[0;34m,\u001b[0m \u001b[0mexecutor_type\u001b[0m\u001b[0;34m,\u001b[0m \u001b[0;34m\"config_proto\"\u001b[0m\u001b[0;34m,\u001b[0m \u001b[0mconfig\u001b[0m\u001b[0;34m)\u001b[0m\u001b[0;34m,\u001b[0m\u001b[0;34m\u001b[0m\u001b[0;34m\u001b[0m\u001b[0m\n\u001b[0;32m--> 511\u001b[0;31m               ctx=ctx)\n\u001b[0m\u001b[1;32m    512\u001b[0m         \u001b[0;32melse\u001b[0m\u001b[0;34m:\u001b[0m\u001b[0;34m\u001b[0m\u001b[0;34m\u001b[0m\u001b[0m\n\u001b[1;32m    513\u001b[0m           outputs = execute.execute_with_cancellation(\n",
      "\u001b[0;32m/opt/anaconda3/envs/PIC16B/lib/python3.7/site-packages/tensorflow_core/python/eager/execute.py\u001b[0m in \u001b[0;36mquick_execute\u001b[0;34m(op_name, num_outputs, inputs, attrs, ctx, name)\u001b[0m\n\u001b[1;32m     59\u001b[0m     tensors = pywrap_tensorflow.TFE_Py_Execute(ctx._handle, device_name,\n\u001b[1;32m     60\u001b[0m                                                \u001b[0mop_name\u001b[0m\u001b[0;34m,\u001b[0m \u001b[0minputs\u001b[0m\u001b[0;34m,\u001b[0m \u001b[0mattrs\u001b[0m\u001b[0;34m,\u001b[0m\u001b[0;34m\u001b[0m\u001b[0;34m\u001b[0m\u001b[0m\n\u001b[0;32m---> 61\u001b[0;31m                                                num_outputs)\n\u001b[0m\u001b[1;32m     62\u001b[0m   \u001b[0;32mexcept\u001b[0m \u001b[0mcore\u001b[0m\u001b[0;34m.\u001b[0m\u001b[0m_NotOkStatusException\u001b[0m \u001b[0;32mas\u001b[0m \u001b[0me\u001b[0m\u001b[0;34m:\u001b[0m\u001b[0;34m\u001b[0m\u001b[0;34m\u001b[0m\u001b[0m\n\u001b[1;32m     63\u001b[0m     \u001b[0;32mif\u001b[0m \u001b[0mname\u001b[0m \u001b[0;32mis\u001b[0m \u001b[0;32mnot\u001b[0m \u001b[0;32mNone\u001b[0m\u001b[0;34m:\u001b[0m\u001b[0;34m\u001b[0m\u001b[0;34m\u001b[0m\u001b[0m\n",
      "\u001b[0;31mKeyboardInterrupt\u001b[0m: "
     ]
    }
   ],
   "source": [
    "model1 = tfanalysis(\"GrowthStock_PercentChange\", [\"inflation5yr_PercentChange\"], 0.3)[1]"
   ]
  },
  {
   "cell_type": "code",
   "execution_count": null,
   "id": "74891502",
   "metadata": {},
   "outputs": [],
   "source": [
    "model2 = tfanalysis(\"ValueStock_PercentChange\", [\"inflation5yr_PercentChange\"], 0.3)[1]"
   ]
  },
  {
   "cell_type": "code",
   "execution_count": null,
   "id": "1b1856b7",
   "metadata": {},
   "outputs": [],
   "source": [
    "testing_data = np.linspace(-0.5,0.5,200)\n",
    "growth_change = model1.predict(testing_data)\n",
    "value_change = model2.predict(testing_data)\n",
    "plt.plot(testing_data, growth_change, label = \"Growth Stock\")\n",
    "plt.plot(testing_data, value_change, label = \"Value Stock\")\n",
    "plt.legend()"
   ]
  },
  {
   "cell_type": "markdown",
   "id": "560fcff7",
   "metadata": {},
   "source": [
    "#### CPI Percentage Change"
   ]
  },
  {
   "cell_type": "code",
   "execution_count": null,
   "id": "e00f8bd8",
   "metadata": {},
   "outputs": [],
   "source": [
    "model3 = tfanalysis(\"GrowthStock_PercentChange\", [\"CPI_PercentChange\"], 0.3)[1]"
   ]
  },
  {
   "cell_type": "code",
   "execution_count": null,
   "id": "d89c1bb2",
   "metadata": {},
   "outputs": [],
   "source": [
    "model4 = tfanalysis(\"ValueStock_PercentChange\", [\"CPI_PercentChange\"], 0.3)[1]"
   ]
  },
  {
   "cell_type": "code",
   "execution_count": null,
   "id": "5a766724",
   "metadata": {},
   "outputs": [],
   "source": [
    "testing_data = np.linspace(-0.5,0.5,200)\n",
    "growth_change = model3.predict(testing_data)\n",
    "value_change = model4.predict(testing_data)\n",
    "plt.plot(testing_data, growth_change, label = \"Growth Stock\")\n",
    "plt.plot(testing_data, value_change, label = \"Value Stock\")\n",
    "plt.legend()"
   ]
  },
  {
   "cell_type": "markdown",
   "id": "75e8ae74",
   "metadata": {},
   "source": [
    "#### Exchange Percentage Difference"
   ]
  },
  {
   "cell_type": "code",
   "execution_count": null,
   "id": "8c1f6b04",
   "metadata": {},
   "outputs": [],
   "source": [
    "model5 = tfanalysis(\"GrowthStock_PercentChange\", [\"exchange_PercentChange\"], 0.3)[1]"
   ]
  },
  {
   "cell_type": "code",
   "execution_count": null,
   "id": "b4279dbd",
   "metadata": {},
   "outputs": [],
   "source": [
    "model6 = tfanalysis(\"ValueStock_PercentChange\", [\"exchange_PercentChange\"], 0.3)[1]"
   ]
  },
  {
   "cell_type": "code",
   "execution_count": null,
   "id": "154cc384",
   "metadata": {},
   "outputs": [],
   "source": [
    "testing_data = np.linspace(-0.5,0.5,200)\n",
    "growth_change = model5.predict(testing_data)\n",
    "value_change = model6.predict(testing_data)\n",
    "plt.plot(testing_data, growth_change, label = \"Growth Stock\")\n",
    "plt.plot(testing_data, value_change, label = \"Value Stock\")\n",
    "plt.legend()"
   ]
  },
  {
   "cell_type": "markdown",
   "id": "ddfc8efb",
   "metadata": {},
   "source": [
    "#### 10 Year Treasury Yield"
   ]
  },
  {
   "cell_type": "code",
   "execution_count": null,
   "id": "c9c7c3d2",
   "metadata": {},
   "outputs": [],
   "source": [
    "model7 = tfanalysis(\"GrowthStock_PercentChange\", [\"Treasury10yr_PercentChange\"], 0.3)[1]"
   ]
  },
  {
   "cell_type": "code",
   "execution_count": null,
   "id": "4270f66d",
   "metadata": {},
   "outputs": [],
   "source": [
    "model8 = tfanalysis(\"ValueStock_PercentChange\", [\"Treasury10yr_PercentChange\"], 0.3)[1]"
   ]
  },
  {
   "cell_type": "code",
   "execution_count": null,
   "id": "8ca241db",
   "metadata": {},
   "outputs": [],
   "source": [
    "testing_data = np.linspace(-0.5,0.5,200)\n",
    "growth_change = model7.predict(testing_data)\n",
    "value_change = model8.predict(testing_data)\n",
    "plt.plot(testing_data, growth_change, label = \"Growth Stock\")\n",
    "plt.plot(testing_data, value_change, label = \"Value Stock\")\n",
    "plt.legend()"
   ]
  },
  {
   "cell_type": "markdown",
   "id": "b6a70eab",
   "metadata": {},
   "source": [
    "## Step 4: Visualization"
   ]
  },
  {
   "cell_type": "code",
   "execution_count": null,
   "id": "a4708609",
   "metadata": {},
   "outputs": [],
   "source": [
    "testing_data = np.linspace(-0.5, 0.5, 1000)"
   ]
  },
  {
   "cell_type": "code",
   "execution_count": null,
   "id": "201cb93b",
   "metadata": {},
   "outputs": [],
   "source": [
    "fig, ax = plt.subplots(1, 4, figsize = (20, 5), sharey = True)\n",
    "ax[0].plot(testing_data, model1.predict(testing_data), label = \"Growth Stock\")\n",
    "ax[0].plot(testing_data, model2.predict(testing_data), label = \"Value Stock\")\n",
    "ax[0].set_xlabel('% Change in 5 Year Inflation')\n",
    "ax[1].plot(testing_data, model3.predict(testing_data))\n",
    "ax[1].plot(testing_data, model4.predict(testing_data))\n",
    "ax[1].set_xlabel('% Change in CPI')\n",
    "ax[2].plot(testing_data, model5.predict(testing_data))\n",
    "ax[2].plot(testing_data, model6.predict(testing_data))\n",
    "ax[2].set_xlabel('% Change in Exchange Rate')\n",
    "ax[3].plot(testing_data, model7.predict(testing_data))\n",
    "ax[3].plot(testing_data, model8.predict(testing_data))\n",
    "ax[3].set_xlabel('% Change in 10 Year Treasury Yield')\n",
    "fig.legend()"
   ]
  },
  {
   "cell_type": "code",
   "execution_count": null,
   "id": "3f692fec",
   "metadata": {},
   "outputs": [],
   "source": []
  }
 ],
 "metadata": {
  "kernelspec": {
   "display_name": "Python [conda env:PIC16B] *",
   "language": "python",
   "name": "conda-env-PIC16B-py"
  },
  "language_info": {
   "codemirror_mode": {
    "name": "ipython",
    "version": 3
   },
   "file_extension": ".py",
   "mimetype": "text/x-python",
   "name": "python",
   "nbconvert_exporter": "python",
   "pygments_lexer": "ipython3",
   "version": "3.7.11"
  }
 },
 "nbformat": 4,
 "nbformat_minor": 5
}
