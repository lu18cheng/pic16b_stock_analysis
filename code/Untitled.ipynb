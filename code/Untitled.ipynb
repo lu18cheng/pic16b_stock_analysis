{
 "cells": [
  {
   "cell_type": "code",
   "execution_count": 1,
   "id": "de77a8bc",
   "metadata": {},
   "outputs": [],
   "source": [
    "import numpy as np\n",
    "import pandas as pd\n",
    "import sqlite3\n",
    "import os\n",
    "import matplotlib.pyplot as plt\n",
    "import seaborn as sns\n",
    "from sklearn.preprocessing import LabelEncoder\n",
    "from sklearn.model_selection import train_test_split\n",
    "from tensorflow.keras.layers import Input, Dense, Activation,Dropout\n",
    "from tensorflow.keras.models import Model\n",
    "from tensorflow.keras import layers\n",
    "import tensorflow as tf\n",
    "\n",
    "from tensorflow.keras import layers\n",
    "from tensorflow.keras import losses\n",
    "from tensorflow import keras\n",
    "\n",
    "from funcs import load_stocks_dataframe"
   ]
  },
  {
   "cell_type": "code",
   "execution_count": 4,
   "id": "1decccc7",
   "metadata": {},
   "outputs": [
    {
     "name": "stderr",
     "output_type": "stream",
     "text": [
      "2022-03-08 18:39:48.776918: I tensorflow/core/platform/cpu_feature_guard.cc:151] This TensorFlow binary is optimized with oneAPI Deep Neural Network Library (oneDNN) to use the following CPU instructions in performance-critical operations:  AVX2 FMA\n",
      "To enable them in other operations, rebuild TensorFlow with the appropriate compiler flags.\n"
     ]
    }
   ],
   "source": [
    "model = tf.keras.models.load_model('../webapp/model/mixed_regression_growth')"
   ]
  },
  {
   "cell_type": "code",
   "execution_count": 5,
   "id": "c88b8bb7",
   "metadata": {},
   "outputs": [],
   "source": [
    "test_data =  tf.data.Dataset.from_tensor_slices(\n",
    "    (\n",
    "        {\n",
    "            \"Treasury10yr_PercentChange\": np.array([-0.1]).reshape(-1,1),\n",
    "            \"inflation5yr_PercentChange\": np.array([-0.05]).reshape(-1,1),\n",
    "            \"CPI_PercentChange\"         : np.array([-0.08]).reshape(-1,1),\n",
    "            \"exchange_PercentChange\"    : np.array([-0.08]).reshape(-1,1)\n",
    "        }\n",
    "    )\n",
    ")"
   ]
  },
  {
   "cell_type": "code",
   "execution_count": 8,
   "id": "bb73449a",
   "metadata": {},
   "outputs": [
    {
     "name": "stdout",
     "output_type": "stream",
     "text": [
      "-0.00070674904\n"
     ]
    }
   ],
   "source": [
    "try:\n",
    "    x = model.predict(test_data)[0][0]\n",
    "    print(x)\n",
    "except:\n",
    "    print('error')"
   ]
  },
  {
   "cell_type": "code",
   "execution_count": null,
   "id": "c447f756",
   "metadata": {},
   "outputs": [],
   "source": []
  }
 ],
 "metadata": {
  "kernelspec": {
   "display_name": "Python [conda env:PIC16B] *",
   "language": "python",
   "name": "conda-env-PIC16B-py"
  },
  "language_info": {
   "codemirror_mode": {
    "name": "ipython",
    "version": 3
   },
   "file_extension": ".py",
   "mimetype": "text/x-python",
   "name": "python",
   "nbconvert_exporter": "python",
   "pygments_lexer": "ipython3",
   "version": "3.7.11"
  }
 },
 "nbformat": 4,
 "nbformat_minor": 5
}
