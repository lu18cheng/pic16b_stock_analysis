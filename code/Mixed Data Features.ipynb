{
 "cells": [
  {
   "cell_type": "code",
   "execution_count": 1,
   "id": "fbd7aa60",
   "metadata": {},
   "outputs": [],
   "source": [
    "import numpy as np\n",
    "import pandas as pd\n",
    "import sqlite3\n",
    "import os\n",
    "import matplotlib.pyplot as plt\n",
    "import seaborn as sns\n",
    "from sklearn.preprocessing import LabelEncoder\n",
    "from sklearn.model_selection import train_test_split\n",
    "from tensorflow.keras.layers import Input, Dense, Activation,Dropout\n",
    "from tensorflow.keras.models import Model\n",
    "from tensorflow.keras import layers\n",
    "import tensorflow as tf\n",
    "\n",
    "from tensorflow.keras import layers\n",
    "from tensorflow.keras import losses\n",
    "from tensorflow import keras\n",
    "\n",
    "from funcs import load_stocks_dataframe"
   ]
  },
  {
   "cell_type": "code",
   "execution_count": 46,
   "id": "54e4cc22",
   "metadata": {},
   "outputs": [],
   "source": [
    "import os\n",
    "os.environ['TF_CPP_MIN_LOG_LEVEL'] = '2' \n",
    "import tensorflow as tf"
   ]
  },
  {
   "cell_type": "code",
   "execution_count": 2,
   "id": "c206b917",
   "metadata": {},
   "outputs": [],
   "source": [
    "df = load_stocks_dataframe()\n",
    "df = df.dropna()"
   ]
  },
  {
   "cell_type": "code",
   "execution_count": 3,
   "id": "c09a1d63",
   "metadata": {
    "scrolled": true
   },
   "outputs": [
    {
     "data": {
      "text/html": [
       "<div>\n",
       "<style scoped>\n",
       "    .dataframe tbody tr th:only-of-type {\n",
       "        vertical-align: middle;\n",
       "    }\n",
       "\n",
       "    .dataframe tbody tr th {\n",
       "        vertical-align: top;\n",
       "    }\n",
       "\n",
       "    .dataframe thead th {\n",
       "        text-align: right;\n",
       "    }\n",
       "</style>\n",
       "<table border=\"1\" class=\"dataframe\">\n",
       "  <thead>\n",
       "    <tr style=\"text-align: right;\">\n",
       "      <th></th>\n",
       "      <th>Date</th>\n",
       "      <th>GrowthStock_AdjClose</th>\n",
       "      <th>GrowthStock_PercentChange</th>\n",
       "      <th>ValueStock_AdjClose</th>\n",
       "      <th>ValueStock_PercentChange</th>\n",
       "      <th>Treasury10yr_AdjClose</th>\n",
       "      <th>Treasury10yr_PercentChange</th>\n",
       "      <th>Treasury10yr_Diff</th>\n",
       "      <th>exchange</th>\n",
       "      <th>exchange_PercentChange</th>\n",
       "      <th>exchange_Diff</th>\n",
       "      <th>inflation5yr</th>\n",
       "      <th>inflation5yr_PercentChange</th>\n",
       "      <th>inflation5yr_Diff</th>\n",
       "      <th>CPI</th>\n",
       "      <th>CPI_PercentChange</th>\n",
       "      <th>CPI_Diff</th>\n",
       "    </tr>\n",
       "  </thead>\n",
       "  <tbody>\n",
       "    <tr>\n",
       "      <th>712</th>\n",
       "      <td>2003-04-01</td>\n",
       "      <td>8.603225</td>\n",
       "      <td>0.010614</td>\n",
       "      <td>26.337534</td>\n",
       "      <td>0.016642</td>\n",
       "      <td>3.827</td>\n",
       "      <td>0.001046</td>\n",
       "      <td>0.004</td>\n",
       "      <td>1.4729</td>\n",
       "      <td>0.002314</td>\n",
       "      <td>0.0034</td>\n",
       "      <td>1.64</td>\n",
       "      <td>-0.006061</td>\n",
       "      <td>-0.01</td>\n",
       "      <td>2.17513</td>\n",
       "      <td>-0.034786</td>\n",
       "      <td>-0.07839</td>\n",
       "    </tr>\n",
       "    <tr>\n",
       "      <th>713</th>\n",
       "      <td>2003-04-02</td>\n",
       "      <td>8.835845</td>\n",
       "      <td>0.027039</td>\n",
       "      <td>27.103275</td>\n",
       "      <td>0.029074</td>\n",
       "      <td>3.932</td>\n",
       "      <td>0.027437</td>\n",
       "      <td>0.105</td>\n",
       "      <td>1.4762</td>\n",
       "      <td>0.002240</td>\n",
       "      <td>0.0033</td>\n",
       "      <td>1.66</td>\n",
       "      <td>0.012195</td>\n",
       "      <td>0.02</td>\n",
       "      <td>2.17513</td>\n",
       "      <td>-0.034786</td>\n",
       "      <td>-0.07839</td>\n",
       "    </tr>\n",
       "    <tr>\n",
       "      <th>714</th>\n",
       "      <td>2003-04-03</td>\n",
       "      <td>8.831999</td>\n",
       "      <td>-0.000435</td>\n",
       "      <td>26.878065</td>\n",
       "      <td>-0.008309</td>\n",
       "      <td>3.916</td>\n",
       "      <td>-0.004069</td>\n",
       "      <td>-0.016</td>\n",
       "      <td>1.4760</td>\n",
       "      <td>-0.000135</td>\n",
       "      <td>-0.0002</td>\n",
       "      <td>1.64</td>\n",
       "      <td>-0.012048</td>\n",
       "      <td>-0.02</td>\n",
       "      <td>2.17513</td>\n",
       "      <td>-0.034786</td>\n",
       "      <td>-0.07839</td>\n",
       "    </tr>\n",
       "    <tr>\n",
       "      <th>715</th>\n",
       "      <td>2003-04-04</td>\n",
       "      <td>8.824308</td>\n",
       "      <td>-0.000871</td>\n",
       "      <td>27.038921</td>\n",
       "      <td>0.005985</td>\n",
       "      <td>3.944</td>\n",
       "      <td>0.007150</td>\n",
       "      <td>0.028</td>\n",
       "      <td>1.4720</td>\n",
       "      <td>-0.002710</td>\n",
       "      <td>-0.0040</td>\n",
       "      <td>1.63</td>\n",
       "      <td>-0.006098</td>\n",
       "      <td>-0.01</td>\n",
       "      <td>2.17513</td>\n",
       "      <td>-0.034786</td>\n",
       "      <td>-0.07839</td>\n",
       "    </tr>\n",
       "    <tr>\n",
       "      <th>716</th>\n",
       "      <td>2003-04-07</td>\n",
       "      <td>8.828156</td>\n",
       "      <td>0.000436</td>\n",
       "      <td>27.109701</td>\n",
       "      <td>0.002618</td>\n",
       "      <td>4.014</td>\n",
       "      <td>0.017748</td>\n",
       "      <td>0.070</td>\n",
       "      <td>1.4843</td>\n",
       "      <td>0.008356</td>\n",
       "      <td>0.0123</td>\n",
       "      <td>1.61</td>\n",
       "      <td>-0.012270</td>\n",
       "      <td>-0.02</td>\n",
       "      <td>2.17513</td>\n",
       "      <td>-0.034786</td>\n",
       "      <td>-0.07839</td>\n",
       "    </tr>\n",
       "  </tbody>\n",
       "</table>\n",
       "</div>"
      ],
      "text/plain": [
       "          Date  GrowthStock_AdjClose  GrowthStock_PercentChange  \\\n",
       "712 2003-04-01              8.603225                   0.010614   \n",
       "713 2003-04-02              8.835845                   0.027039   \n",
       "714 2003-04-03              8.831999                  -0.000435   \n",
       "715 2003-04-04              8.824308                  -0.000871   \n",
       "716 2003-04-07              8.828156                   0.000436   \n",
       "\n",
       "     ValueStock_AdjClose  ValueStock_PercentChange  Treasury10yr_AdjClose  \\\n",
       "712            26.337534                  0.016642                  3.827   \n",
       "713            27.103275                  0.029074                  3.932   \n",
       "714            26.878065                 -0.008309                  3.916   \n",
       "715            27.038921                  0.005985                  3.944   \n",
       "716            27.109701                  0.002618                  4.014   \n",
       "\n",
       "     Treasury10yr_PercentChange  Treasury10yr_Diff exchange  \\\n",
       "712                    0.001046              0.004   1.4729   \n",
       "713                    0.027437              0.105   1.4762   \n",
       "714                   -0.004069             -0.016   1.4760   \n",
       "715                    0.007150              0.028   1.4720   \n",
       "716                    0.017748              0.070   1.4843   \n",
       "\n",
       "     exchange_PercentChange  exchange_Diff inflation5yr  \\\n",
       "712                0.002314         0.0034         1.64   \n",
       "713                0.002240         0.0033         1.66   \n",
       "714               -0.000135        -0.0002         1.64   \n",
       "715               -0.002710        -0.0040         1.63   \n",
       "716                0.008356         0.0123         1.61   \n",
       "\n",
       "     inflation5yr_PercentChange  inflation5yr_Diff      CPI  \\\n",
       "712                   -0.006061              -0.01  2.17513   \n",
       "713                    0.012195               0.02  2.17513   \n",
       "714                   -0.012048              -0.02  2.17513   \n",
       "715                   -0.006098              -0.01  2.17513   \n",
       "716                   -0.012270              -0.02  2.17513   \n",
       "\n",
       "     CPI_PercentChange  CPI_Diff  \n",
       "712          -0.034786  -0.07839  \n",
       "713          -0.034786  -0.07839  \n",
       "714          -0.034786  -0.07839  \n",
       "715          -0.034786  -0.07839  \n",
       "716          -0.034786  -0.07839  "
      ]
     },
     "execution_count": 3,
     "metadata": {},
     "output_type": "execute_result"
    }
   ],
   "source": [
    "df.head()"
   ]
  },
  {
   "cell_type": "markdown",
   "id": "76067ffc",
   "metadata": {},
   "source": [
    "### Running on Growth Stocks"
   ]
  },
  {
   "cell_type": "code",
   "execution_count": 49,
   "id": "073e7d9d",
   "metadata": {},
   "outputs": [
    {
     "data": {
      "text/plain": [
       "3696"
      ]
     },
     "execution_count": 49,
     "metadata": {},
     "output_type": "execute_result"
    }
   ],
   "source": [
    "growth_dataset = tf.data.Dataset.from_tensor_slices(\n",
    "    (\n",
    "        {\n",
    "            \"Treasury10yr_PercentChange\": df[[\"Treasury10yr_PercentChange\"]],\n",
    "            \"inflation5yr_PercentChange\": df[[\"inflation5yr_PercentChange\"]],\n",
    "            \"CPI_PercentChange\"         : df[[\"CPI_PercentChange\"]],\n",
    "            \"exchange_PercentChange\"    : df[[\"exchange_PercentChange\"]]\n",
    "        },\n",
    "        {\n",
    "            \"GrowthStock_PercentChange\" : df[[\"GrowthStock_PercentChange\"]]\n",
    "        }\n",
    "    )\n",
    ")\n",
    "\n",
    "len(growth_dataset)"
   ]
  },
  {
   "cell_type": "code",
   "execution_count": 50,
   "id": "9e2f5afe",
   "metadata": {},
   "outputs": [
    {
     "data": {
      "text/plain": [
       "<bound method DatasetV2.take of <TensorSliceDataset element_spec=({'Treasury10yr_PercentChange': TensorSpec(shape=(1,), dtype=tf.float64, name=None), 'inflation5yr_PercentChange': TensorSpec(shape=(1,), dtype=tf.float64, name=None), 'CPI_PercentChange': TensorSpec(shape=(1,), dtype=tf.float64, name=None), 'exchange_PercentChange': TensorSpec(shape=(1,), dtype=tf.float64, name=None)}, {'GrowthStock_PercentChange': TensorSpec(shape=(1,), dtype=tf.float64, name=None)})>>"
      ]
     },
     "execution_count": 50,
     "metadata": {},
     "output_type": "execute_result"
    }
   ],
   "source": [
    "growth_dataset.take"
   ]
  },
  {
   "cell_type": "code",
   "execution_count": 51,
   "id": "71d06763",
   "metadata": {},
   "outputs": [],
   "source": [
    "# train, test split\n",
    "train_size = int(0.7*(len(growth_dataset)))\n",
    "val_size = int(0.3*(len(growth_dataset)))\n",
    "train = growth_dataset.take(train_size)\n",
    "val   = growth_dataset.skip(train_size).take(val_size)"
   ]
  },
  {
   "cell_type": "code",
   "execution_count": 52,
   "id": "431e23fc",
   "metadata": {},
   "outputs": [],
   "source": [
    "# inputs\n",
    "treasury_input = keras.Input(\n",
    "    shape = (1,), \n",
    "    name = \"Treasury10yr_PercentChange\",\n",
    "    dtype = \"float64\"\n",
    ")\n",
    "\n",
    "inflation_input = keras.Input(\n",
    "    shape = (1,), \n",
    "    name = \"inflation5yr_PercentChange\",\n",
    "    dtype = \"float64\"\n",
    ")\n",
    "\n",
    "CPI_input = keras.Input(\n",
    "    shape = (1,), \n",
    "    name = \"CPI_PercentChange\",\n",
    "    dtype = \"float64\"\n",
    ")\n",
    "\n",
    "exchange_input = keras.Input(\n",
    "    shape = (1,), \n",
    "    name = \"exchange_PercentChange\",\n",
    "    dtype = \"float64\"\n",
    ")"
   ]
  },
  {
   "cell_type": "code",
   "execution_count": 53,
   "id": "944b92da",
   "metadata": {},
   "outputs": [],
   "source": [
    "# pipeline for treasury\n",
    "treasury_features = Dense(300, activation='relu')(treasury_input)\n",
    "treasury_features = Dense(300, activation='relu')(treasury_features)\n",
    "treasury_features = Dropout(0.2)(treasury_features)\n",
    "treasury_features = Dense(300, activation='relu')(treasury_features)\n",
    "\n",
    "# pipeline for inflation\n",
    "inflation_features = Dense(300, activation='relu')(inflation_input)\n",
    "inflation_features = Dense(300, activation='relu')(inflation_features)\n",
    "inflation_features = Dropout(0.2)(inflation_features)\n",
    "inflation_features = Dense(300, activation='relu')(inflation_features)\n",
    "\n",
    "# pipeline for CPI\n",
    "CPI_features = Dense(300, activation='relu')(CPI_input)\n",
    "CPI_features = Dense(300, activation='relu')(CPI_features)\n",
    "CPI_features = Dropout(0.2)(CPI_features)\n",
    "CPI_features = Dense(300, activation='relu')(CPI_features)\n",
    "\n",
    "# pipeline for exchange rate\n",
    "exchange_features = Dense(300, activation='relu')(exchange_input)\n",
    "exchange_features = Dense(300, activation='relu')(exchange_features)\n",
    "exchange_features = Dropout(0.2)(exchange_features)\n",
    "exchange_features = Dense(300, activation='relu')(exchange_features)"
   ]
  },
  {
   "cell_type": "code",
   "execution_count": 54,
   "id": "8da30b76",
   "metadata": {},
   "outputs": [],
   "source": [
    "# concatenation\n",
    "main = layers.concatenate([treasury_features, inflation_features, CPI_features, exchange_features], axis = 1)"
   ]
  },
  {
   "cell_type": "code",
   "execution_count": 55,
   "id": "df66e43f",
   "metadata": {},
   "outputs": [],
   "source": [
    "# output layer\n",
    "main = layers.Dense(200, activation='relu')(main)\n",
    "main = layers.Dense(200, activation='relu')(main)\n",
    "output = layers.Dense(1, name = \"GrowthStock_PercentChange\")(main)"
   ]
  },
  {
   "cell_type": "code",
   "execution_count": 56,
   "id": "1e0091a4",
   "metadata": {},
   "outputs": [
    {
     "name": "stdout",
     "output_type": "stream",
     "text": [
      "Model: \"model_3\"\n",
      "__________________________________________________________________________________________________\n",
      " Layer (type)                   Output Shape         Param #     Connected to                     \n",
      "==================================================================================================\n",
      " Treasury10yr_PercentChange (In  [(None, 1)]         0           []                               \n",
      " putLayer)                                                                                        \n",
      "                                                                                                  \n",
      " inflation5yr_PercentChange (In  [(None, 1)]         0           []                               \n",
      " putLayer)                                                                                        \n",
      "                                                                                                  \n",
      " CPI_PercentChange (InputLayer)  [(None, 1)]         0           []                               \n",
      "                                                                                                  \n",
      " exchange_PercentChange (InputL  [(None, 1)]         0           []                               \n",
      " ayer)                                                                                            \n",
      "                                                                                                  \n",
      " dense_28 (Dense)               (None, 300)          600         ['Treasury10yr_PercentChange[0][0\n",
      "                                                                 ]']                              \n",
      "                                                                                                  \n",
      " dense_31 (Dense)               (None, 300)          600         ['inflation5yr_PercentChange[0][0\n",
      "                                                                 ]']                              \n",
      "                                                                                                  \n",
      " dense_34 (Dense)               (None, 300)          600         ['CPI_PercentChange[0][0]']      \n",
      "                                                                                                  \n",
      " dense_37 (Dense)               (None, 300)          600         ['exchange_PercentChange[0][0]'] \n",
      "                                                                                                  \n",
      " dense_29 (Dense)               (None, 300)          90300       ['dense_28[0][0]']               \n",
      "                                                                                                  \n",
      " dense_32 (Dense)               (None, 300)          90300       ['dense_31[0][0]']               \n",
      "                                                                                                  \n",
      " dense_35 (Dense)               (None, 300)          90300       ['dense_34[0][0]']               \n",
      "                                                                                                  \n",
      " dense_38 (Dense)               (None, 300)          90300       ['dense_37[0][0]']               \n",
      "                                                                                                  \n",
      " dropout_8 (Dropout)            (None, 300)          0           ['dense_29[0][0]']               \n",
      "                                                                                                  \n",
      " dropout_9 (Dropout)            (None, 300)          0           ['dense_32[0][0]']               \n",
      "                                                                                                  \n",
      " dropout_10 (Dropout)           (None, 300)          0           ['dense_35[0][0]']               \n",
      "                                                                                                  \n",
      " dropout_11 (Dropout)           (None, 300)          0           ['dense_38[0][0]']               \n",
      "                                                                                                  \n",
      " dense_30 (Dense)               (None, 300)          90300       ['dropout_8[0][0]']              \n",
      "                                                                                                  \n",
      " dense_33 (Dense)               (None, 300)          90300       ['dropout_9[0][0]']              \n",
      "                                                                                                  \n",
      " dense_36 (Dense)               (None, 300)          90300       ['dropout_10[0][0]']             \n",
      "                                                                                                  \n",
      " dense_39 (Dense)               (None, 300)          90300       ['dropout_11[0][0]']             \n",
      "                                                                                                  \n",
      " concatenate_2 (Concatenate)    (None, 1200)         0           ['dense_30[0][0]',               \n",
      "                                                                  'dense_33[0][0]',               \n",
      "                                                                  'dense_36[0][0]',               \n",
      "                                                                  'dense_39[0][0]']               \n",
      "                                                                                                  \n",
      " dense_40 (Dense)               (None, 200)          240200      ['concatenate_2[0][0]']          \n",
      "                                                                                                  \n",
      " dense_41 (Dense)               (None, 200)          40200       ['dense_40[0][0]']               \n",
      "                                                                                                  \n",
      " GrowthStock_PercentChange (Den  (None, 1)           201         ['dense_41[0][0]']               \n",
      " se)                                                                                              \n",
      "                                                                                                  \n",
      "==================================================================================================\n",
      "Total params: 1,005,401\n",
      "Trainable params: 1,005,401\n",
      "Non-trainable params: 0\n",
      "__________________________________________________________________________________________________\n"
     ]
    }
   ],
   "source": [
    "# create the model\n",
    "model = keras.Model(\n",
    "    inputs = [treasury_input, inflation_input, CPI_input, exchange_input],\n",
    "    outputs = output\n",
    ")\n",
    "\n",
    "model.summary()"
   ]
  },
  {
   "cell_type": "code",
   "execution_count": 57,
   "id": "855fa2d3",
   "metadata": {},
   "outputs": [
    {
     "name": "stdout",
     "output_type": "stream",
     "text": [
      "WARNING:tensorflow:AutoGraph could not transform <function Model.make_train_function.<locals>.train_function at 0x7feb08d5add0> and will run it as-is.\n",
      "Please report this to the TensorFlow team. When filing the bug, set the verbosity to 10 (on Linux, `export AUTOGRAPH_VERBOSITY=10`) and attach the full output.\n",
      "Cause: 'arguments' object has no attribute 'posonlyargs'\n",
      "To silence this warning, decorate the function with @tf.autograph.experimental.do_not_convert\n"
     ]
    },
    {
     "name": "stderr",
     "output_type": "stream",
     "text": [
      "WARNING:tensorflow:AutoGraph could not transform <function Model.make_train_function.<locals>.train_function at 0x7feb08d5add0> and will run it as-is.\n",
      "Please report this to the TensorFlow team. When filing the bug, set the verbosity to 10 (on Linux, `export AUTOGRAPH_VERBOSITY=10`) and attach the full output.\n",
      "Cause: 'arguments' object has no attribute 'posonlyargs'\n",
      "To silence this warning, decorate the function with @tf.autograph.experimental.do_not_convert\n"
     ]
    },
    {
     "name": "stdout",
     "output_type": "stream",
     "text": [
      "WARNING: AutoGraph could not transform <function Model.make_train_function.<locals>.train_function at 0x7feb08d5add0> and will run it as-is.\n",
      "Please report this to the TensorFlow team. When filing the bug, set the verbosity to 10 (on Linux, `export AUTOGRAPH_VERBOSITY=10`) and attach the full output.\n",
      "Cause: 'arguments' object has no attribute 'posonlyargs'\n",
      "To silence this warning, decorate the function with @tf.autograph.experimental.do_not_convert\n",
      "2585/2587 [============================>.] - ETA: 0s - loss: 2.4759e-04 - mean_squared_error: 2.4759e-04WARNING:tensorflow:AutoGraph could not transform <function Model.make_test_function.<locals>.test_function at 0x7feb08d5a830> and will run it as-is.\n",
      "Please report this to the TensorFlow team. When filing the bug, set the verbosity to 10 (on Linux, `export AUTOGRAPH_VERBOSITY=10`) and attach the full output.\n",
      "Cause: 'arguments' object has no attribute 'posonlyargs'\n",
      "To silence this warning, decorate the function with @tf.autograph.experimental.do_not_convert\n"
     ]
    },
    {
     "name": "stderr",
     "output_type": "stream",
     "text": [
      "WARNING:tensorflow:AutoGraph could not transform <function Model.make_test_function.<locals>.test_function at 0x7feb08d5a830> and will run it as-is.\n",
      "Please report this to the TensorFlow team. When filing the bug, set the verbosity to 10 (on Linux, `export AUTOGRAPH_VERBOSITY=10`) and attach the full output.\n",
      "Cause: 'arguments' object has no attribute 'posonlyargs'\n",
      "To silence this warning, decorate the function with @tf.autograph.experimental.do_not_convert\n"
     ]
    },
    {
     "name": "stdout",
     "output_type": "stream",
     "text": [
      "WARNING: AutoGraph could not transform <function Model.make_test_function.<locals>.test_function at 0x7feb08d5a830> and will run it as-is.\n",
      "Please report this to the TensorFlow team. When filing the bug, set the verbosity to 10 (on Linux, `export AUTOGRAPH_VERBOSITY=10`) and attach the full output.\n",
      "Cause: 'arguments' object has no attribute 'posonlyargs'\n",
      "To silence this warning, decorate the function with @tf.autograph.experimental.do_not_convert\n",
      "2587/2587 [==============================] - 18s 6ms/step - loss: 2.4743e-04 - mean_squared_error: 2.4743e-04 - val_loss: 1.1113e-04 - val_mean_squared_error: 1.1113e-04\n"
     ]
    }
   ],
   "source": [
    "# specify loss function\n",
    "model.compile(loss=\"mean_squared_error\" , optimizer=\"adam\", metrics=[\"mean_squared_error\"])\n",
    "\n",
    "# train the model\n",
    "history = model.fit(train, \n",
    "                    validation_data=val,\n",
    "                    epochs = 1)"
   ]
  },
  {
   "cell_type": "code",
   "execution_count": 36,
   "id": "4b44fc41",
   "metadata": {
    "scrolled": true
   },
   "outputs": [
    {
     "data": {
      "image/png": "[encoded data removed]",
      "text/plain": [
       "<Figure size 432x288 with 1 Axes>"
      ]
     },
     "metadata": {
      "needs_background": "light"
     },
     "output_type": "display_data"
    }
   ],
   "source": [
    "plt.plot(history.history[\"mean_squared_error\"], label = \"training\")\n",
    "plt.plot(history.history[\"val_mean_squared_error\"], label = \"validation\")\n",
    "plt.gca().set(xlabel = \"epoch\", ylabel = \"mean_squared_error\")\n",
    "plt.title(label = \"Prediction for Growth Stocks Using Mixed Inputs Error Analysis\", loc = \"center\")\n",
    "plt.ylim(0.0001, 0.00015)\n",
    "plt.legend()\n",
    "\n",
    "plt.savefig(\"growth_mixed_features.png\")"
   ]
  },
  {
   "cell_type": "code",
   "execution_count": 37,
   "id": "b1355eeb",
   "metadata": {},
   "outputs": [
    {
     "name": "stdout",
     "output_type": "stream",
     "text": [
      "WARNING:tensorflow:AutoGraph could not transform <function trace_model_call.<locals>._wrapped_model at 0x7feb08d17d40> and will run it as-is.\n",
      "Please report this to the TensorFlow team. When filing the bug, set the verbosity to 10 (on Linux, `export AUTOGRAPH_VERBOSITY=10`) and attach the full output.\n",
      "Cause: module 'gast' has no attribute 'Constant'\n",
      "To silence this warning, decorate the function with @tf.autograph.experimental.do_not_convert\n",
      "WARNING: AutoGraph could not transform <function trace_model_call.<locals>._wrapped_model at 0x7feb08d17d40> and will run it as-is.\n",
      "Please report this to the TensorFlow team. When filing the bug, set the verbosity to 10 (on Linux, `export AUTOGRAPH_VERBOSITY=10`) and attach the full output.\n",
      "Cause: module 'gast' has no attribute 'Constant'\n",
      "To silence this warning, decorate the function with @tf.autograph.experimental.do_not_convert\n"
     ]
    },
    {
     "name": "stderr",
     "output_type": "stream",
     "text": [
      "2022-03-08 15:20:16.046846: W tensorflow/python/util/util.cc:368] Sets are not currently considered sequences, but this may change in the future, so consider avoiding using them.\n",
      "WARNING:absl:Function `_wrapped_model` contains input name(s) Treasury10yr_PercentChange, inflation5yr_PercentChange, CPI_PercentChange, exchange_PercentChange with unsupported characters which will be renamed to treasury10yr_percentchange, inflation5yr_percentchange, cpi_percentchange, exchange_percentchange in the SavedModel.\n"
     ]
    },
    {
     "name": "stdout",
     "output_type": "stream",
     "text": [
      "WARNING:tensorflow:AutoGraph could not transform <function canonicalize_signatures.<locals>.signature_wrapper at 0x7feb0a7d8560> and will run it as-is.\n",
      "Please report this to the TensorFlow team. When filing the bug, set the verbosity to 10 (on Linux, `export AUTOGRAPH_VERBOSITY=10`) and attach the full output.\n",
      "Cause: 'arguments' object has no attribute 'posonlyargs'\n",
      "To silence this warning, decorate the function with @tf.autograph.experimental.do_not_convert\n"
     ]
    },
    {
     "name": "stderr",
     "output_type": "stream",
     "text": [
      "WARNING:tensorflow:AutoGraph could not transform <function canonicalize_signatures.<locals>.signature_wrapper at 0x7feb0a7d8560> and will run it as-is.\n",
      "Please report this to the TensorFlow team. When filing the bug, set the verbosity to 10 (on Linux, `export AUTOGRAPH_VERBOSITY=10`) and attach the full output.\n",
      "Cause: 'arguments' object has no attribute 'posonlyargs'\n",
      "To silence this warning, decorate the function with @tf.autograph.experimental.do_not_convert\n"
     ]
    },
    {
     "name": "stdout",
     "output_type": "stream",
     "text": [
      "WARNING: AutoGraph could not transform <function canonicalize_signatures.<locals>.signature_wrapper at 0x7feb0a7d8560> and will run it as-is.\n",
      "Please report this to the TensorFlow team. When filing the bug, set the verbosity to 10 (on Linux, `export AUTOGRAPH_VERBOSITY=10`) and attach the full output.\n",
      "Cause: 'arguments' object has no attribute 'posonlyargs'\n",
      "To silence this warning, decorate the function with @tf.autograph.experimental.do_not_convert\n",
      "INFO:tensorflow:Assets written to: ram://a142318f-e57a-49a5-bf62-51bf14c94b5e/assets\n"
     ]
    },
    {
     "name": "stderr",
     "output_type": "stream",
     "text": [
      "INFO:tensorflow:Assets written to: ram://a142318f-e57a-49a5-bf62-51bf14c94b5e/assets\n"
     ]
    }
   ],
   "source": [
    "import pickle\n",
    "filename = 'mixed_regression_growth.pkl'\n",
    "pickle.dump(model, open(filename, 'wb'))"
   ]
  },
  {
   "cell_type": "markdown",
   "id": "bf2510c9",
   "metadata": {},
   "source": [
    "### Running on Value Stocks"
   ]
  },
  {
   "cell_type": "code",
   "execution_count": 4,
   "id": "c6de825a",
   "metadata": {},
   "outputs": [
    {
     "name": "stdout",
     "output_type": "stream",
     "text": [
      "Model: \"model\"\n",
      "__________________________________________________________________________________________________\n",
      " Layer (type)                   Output Shape         Param #     Connected to                     \n",
      "==================================================================================================\n",
      " Treasury10yr_PercentChange (In  [(None, 1)]         0           []                               \n",
      " putLayer)                                                                                        \n",
      "                                                                                                  \n",
      " inflation5yr_PercentChange (In  [(None, 1)]         0           []                               \n",
      " putLayer)                                                                                        \n",
      "                                                                                                  \n",
      " CPI_PercentChange (InputLayer)  [(None, 1)]         0           []                               \n",
      "                                                                                                  \n",
      " exchange_PercentChange (InputL  [(None, 1)]         0           []                               \n",
      " ayer)                                                                                            \n"
     ]
    },
    {
     "name": "stderr",
     "output_type": "stream",
     "text": [
      "2022-03-09 10:21:33.088223: I tensorflow/core/platform/cpu_feature_guard.cc:151] This TensorFlow binary is optimized with oneAPI Deep Neural Network Library (oneDNN) to use the following CPU instructions in performance-critical operations:  AVX2 FMA\n",
      "To enable them in other operations, rebuild TensorFlow with the appropriate compiler flags.\n"
     ]
    },
    {
     "name": "stdout",
     "output_type": "stream",
     "text": [
      "                                                                                                  \n",
      " dense (Dense)                  (None, 300)          600         ['Treasury10yr_PercentChange[0][0\n",
      "                                                                 ]']                              \n",
      "                                                                                                  \n",
      " dense_3 (Dense)                (None, 300)          600         ['inflation5yr_PercentChange[0][0\n",
      "                                                                 ]']                              \n",
      "                                                                                                  \n",
      " dense_6 (Dense)                (None, 300)          600         ['CPI_PercentChange[0][0]']      \n",
      "                                                                                                  \n",
      " dense_9 (Dense)                (None, 300)          600         ['exchange_PercentChange[0][0]'] \n",
      "                                                                                                  \n",
      " dense_1 (Dense)                (None, 300)          90300       ['dense[0][0]']                  \n",
      "                                                                                                  \n",
      " dense_4 (Dense)                (None, 300)          90300       ['dense_3[0][0]']                \n",
      "                                                                                                  \n",
      " dense_7 (Dense)                (None, 300)          90300       ['dense_6[0][0]']                \n",
      "                                                                                                  \n",
      " dense_10 (Dense)               (None, 300)          90300       ['dense_9[0][0]']                \n",
      "                                                                                                  \n",
      " dropout (Dropout)              (None, 300)          0           ['dense_1[0][0]']                \n",
      "                                                                                                  \n",
      " dropout_1 (Dropout)            (None, 300)          0           ['dense_4[0][0]']                \n",
      "                                                                                                  \n",
      " dropout_2 (Dropout)            (None, 300)          0           ['dense_7[0][0]']                \n",
      "                                                                                                  \n",
      " dropout_3 (Dropout)            (None, 300)          0           ['dense_10[0][0]']               \n",
      "                                                                                                  \n",
      " dense_2 (Dense)                (None, 300)          90300       ['dropout[0][0]']                \n",
      "                                                                                                  \n",
      " dense_5 (Dense)                (None, 300)          90300       ['dropout_1[0][0]']              \n",
      "                                                                                                  \n",
      " dense_8 (Dense)                (None, 300)          90300       ['dropout_2[0][0]']              \n",
      "                                                                                                  \n",
      " dense_11 (Dense)               (None, 300)          90300       ['dropout_3[0][0]']              \n",
      "                                                                                                  \n",
      " concatenate (Concatenate)      (None, 1200)         0           ['dense_2[0][0]',                \n",
      "                                                                  'dense_5[0][0]',                \n",
      "                                                                  'dense_8[0][0]',                \n",
      "                                                                  'dense_11[0][0]']               \n",
      "                                                                                                  \n",
      " dense_12 (Dense)               (None, 200)          240200      ['concatenate[0][0]']            \n",
      "                                                                                                  \n",
      " dense_13 (Dense)               (None, 200)          40200       ['dense_12[0][0]']               \n",
      "                                                                                                  \n",
      " ValueStock_PercentChange (Dens  (None, 1)           201         ['dense_13[0][0]']               \n",
      " e)                                                                                               \n",
      "                                                                                                  \n",
      "==================================================================================================\n",
      "Total params: 1,005,401\n",
      "Trainable params: 1,005,401\n",
      "Non-trainable params: 0\n",
      "__________________________________________________________________________________________________\n",
      "Epoch 1/20\n",
      "WARNING:tensorflow:AutoGraph could not transform <function Model.make_train_function.<locals>.train_function at 0x7fbf326ee290> and will run it as-is.\n",
      "Please report this to the TensorFlow team. When filing the bug, set the verbosity to 10 (on Linux, `export AUTOGRAPH_VERBOSITY=10`) and attach the full output.\n",
      "Cause: 'arguments' object has no attribute 'posonlyargs'\n",
      "To silence this warning, decorate the function with @tf.autograph.experimental.do_not_convert\n",
      "WARNING: AutoGraph could not transform <function Model.make_train_function.<locals>.train_function at 0x7fbf326ee290> and will run it as-is.\n",
      "Please report this to the TensorFlow team. When filing the bug, set the verbosity to 10 (on Linux, `export AUTOGRAPH_VERBOSITY=10`) and attach the full output.\n",
      "Cause: 'arguments' object has no attribute 'posonlyargs'\n",
      "To silence this warning, decorate the function with @tf.autograph.experimental.do_not_convert\n",
      "2586/2587 [============================>.] - ETA: 0s - loss: 3.0293e-04 - mean_squared_error: 3.0293e-04WARNING:tensorflow:AutoGraph could not transform <function Model.make_test_function.<locals>.test_function at 0x7fbf3284b5f0> and will run it as-is.\n",
      "Please report this to the TensorFlow team. When filing the bug, set the verbosity to 10 (on Linux, `export AUTOGRAPH_VERBOSITY=10`) and attach the full output.\n",
      "Cause: 'arguments' object has no attribute 'posonlyargs'\n",
      "To silence this warning, decorate the function with @tf.autograph.experimental.do_not_convert\n",
      "WARNING: AutoGraph could not transform <function Model.make_test_function.<locals>.test_function at 0x7fbf3284b5f0> and will run it as-is.\n",
      "Please report this to the TensorFlow team. When filing the bug, set the verbosity to 10 (on Linux, `export AUTOGRAPH_VERBOSITY=10`) and attach the full output.\n",
      "Cause: 'arguments' object has no attribute 'posonlyargs'\n",
      "To silence this warning, decorate the function with @tf.autograph.experimental.do_not_convert\n",
      "2587/2587 [==============================] - 16s 6ms/step - loss: 3.0282e-04 - mean_squared_error: 3.0282e-04 - val_loss: 8.7198e-05 - val_mean_squared_error: 8.7198e-05\n",
      "Epoch 2/20\n",
      "2587/2587 [==============================] - 18s 7ms/step - loss: 1.4282e-04 - mean_squared_error: 1.4282e-04 - val_loss: 7.7732e-05 - val_mean_squared_error: 7.7732e-05\n",
      "Epoch 3/20\n",
      "2587/2587 [==============================] - 13s 5ms/step - loss: 1.3382e-04 - mean_squared_error: 1.3382e-04 - val_loss: 7.5869e-05 - val_mean_squared_error: 7.5869e-05\n",
      "Epoch 4/20\n",
      "2587/2587 [==============================] - 15s 6ms/step - loss: 1.3133e-04 - mean_squared_error: 1.3133e-04 - val_loss: 7.7908e-05 - val_mean_squared_error: 7.7908e-05\n",
      "Epoch 5/20\n",
      "2587/2587 [==============================] - 16s 6ms/step - loss: 1.3289e-04 - mean_squared_error: 1.3289e-04 - val_loss: 7.5276e-05 - val_mean_squared_error: 7.5276e-05\n",
      "Epoch 6/20\n",
      "2587/2587 [==============================] - 14s 5ms/step - loss: 1.3174e-04 - mean_squared_error: 1.3174e-04 - val_loss: 7.2587e-05 - val_mean_squared_error: 7.2587e-05\n",
      "Epoch 7/20\n",
      "2587/2587 [==============================] - 15s 6ms/step - loss: 1.3035e-04 - mean_squared_error: 1.3035e-04 - val_loss: 7.2000e-05 - val_mean_squared_error: 7.2000e-05\n",
      "Epoch 8/20\n"
     ]
    },
    {
     "name": "stdout",
     "output_type": "stream",
     "text": [
      "2587/2587 [==============================] - 13s 5ms/step - loss: 1.2976e-04 - mean_squared_error: 1.2976e-04 - val_loss: 7.2280e-05 - val_mean_squared_error: 7.2280e-05\n",
      "Epoch 9/20\n",
      "2587/2587 [==============================] - 14s 5ms/step - loss: 1.2798e-04 - mean_squared_error: 1.2798e-04 - val_loss: 7.3149e-05 - val_mean_squared_error: 7.3149e-05\n",
      "Epoch 10/20\n",
      "2587/2587 [==============================] - 13s 5ms/step - loss: 1.2598e-04 - mean_squared_error: 1.2598e-04 - val_loss: 7.2691e-05 - val_mean_squared_error: 7.2691e-05\n",
      "Epoch 11/20\n",
      "2587/2587 [==============================] - 14s 6ms/step - loss: 1.2627e-04 - mean_squared_error: 1.2627e-04 - val_loss: 7.4832e-05 - val_mean_squared_error: 7.4832e-05\n",
      "Epoch 12/20\n",
      "2587/2587 [==============================] - 13s 5ms/step - loss: 1.2777e-04 - mean_squared_error: 1.2777e-04 - val_loss: 7.2989e-05 - val_mean_squared_error: 7.2989e-05\n",
      "Epoch 13/20\n",
      "2587/2587 [==============================] - 13s 5ms/step - loss: 1.2618e-04 - mean_squared_error: 1.2618e-04 - val_loss: 7.3035e-05 - val_mean_squared_error: 7.3035e-05\n",
      "Epoch 14/20\n",
      "2587/2587 [==============================] - 13s 5ms/step - loss: 1.2476e-04 - mean_squared_error: 1.2476e-04 - val_loss: 7.4773e-05 - val_mean_squared_error: 7.4773e-05\n",
      "Epoch 15/20\n",
      "2587/2587 [==============================] - 13s 5ms/step - loss: 1.2483e-04 - mean_squared_error: 1.2483e-04 - val_loss: 7.7255e-05 - val_mean_squared_error: 7.7255e-05\n",
      "Epoch 16/20\n",
      "2587/2587 [==============================] - 14s 5ms/step - loss: 1.3008e-04 - mean_squared_error: 1.3008e-04 - val_loss: 7.1307e-05 - val_mean_squared_error: 7.1307e-05\n",
      "Epoch 17/20\n",
      "2587/2587 [==============================] - 14s 5ms/step - loss: 1.2704e-04 - mean_squared_error: 1.2704e-04 - val_loss: 7.1579e-05 - val_mean_squared_error: 7.1579e-05\n",
      "Epoch 18/20\n",
      "2587/2587 [==============================] - 13s 5ms/step - loss: 1.2480e-04 - mean_squared_error: 1.2480e-04 - val_loss: 7.4211e-05 - val_mean_squared_error: 7.4211e-05\n",
      "Epoch 19/20\n",
      "2587/2587 [==============================] - 14s 5ms/step - loss: 1.2415e-04 - mean_squared_error: 1.2415e-04 - val_loss: 7.3772e-05 - val_mean_squared_error: 7.3772e-05\n",
      "Epoch 20/20\n",
      "2587/2587 [==============================] - 13s 5ms/step - loss: 1.2601e-04 - mean_squared_error: 1.2601e-04 - val_loss: 7.5257e-05 - val_mean_squared_error: 7.5257e-05\n"
     ]
    }
   ],
   "source": [
    "value_dataset = tf.data.Dataset.from_tensor_slices(\n",
    "    (\n",
    "        {\n",
    "            \"Treasury10yr_PercentChange\": df[[\"Treasury10yr_PercentChange\"]],\n",
    "            \"inflation5yr_PercentChange\": df[[\"inflation5yr_PercentChange\"]],\n",
    "            \"CPI_PercentChange\"         : df[[\"CPI_PercentChange\"]],\n",
    "            \"exchange_PercentChange\"    : df[[\"exchange_PercentChange\"]]\n",
    "        },\n",
    "        {\n",
    "            \"ValueStock_PercentChange\" : df[[\"ValueStock_PercentChange\"]]\n",
    "        }\n",
    "    )\n",
    ")\n",
    "\n",
    "\n",
    "# train, test split\n",
    "train_size = int(0.7*(len(value_dataset)))\n",
    "val_size = int(0.3*(len(value_dataset)))\n",
    "train = value_dataset.take(train_size)\n",
    "val   = value_dataset.skip(train_size).take(val_size)\n",
    "\n",
    "# inputs\n",
    "treasury_input = keras.Input(\n",
    "    shape = (1,), \n",
    "    name = \"Treasury10yr_PercentChange\",\n",
    "    dtype = \"float64\"\n",
    ")\n",
    "\n",
    "inflation_input = keras.Input(\n",
    "    shape = (1,), \n",
    "    name = \"inflation5yr_PercentChange\",\n",
    "    dtype = \"float64\"\n",
    ")\n",
    "\n",
    "CPI_input = keras.Input(\n",
    "    shape = (1,), \n",
    "    name = \"CPI_PercentChange\",\n",
    "    dtype = \"float64\"\n",
    ")\n",
    "\n",
    "exchange_input = keras.Input(\n",
    "    shape = (1,), \n",
    "    name = \"exchange_PercentChange\",\n",
    "    dtype = \"float64\"\n",
    ")\n",
    "\n",
    "\n",
    "# pipeline for treasury\n",
    "treasury_features = Dense(300, activation='relu')(treasury_input)\n",
    "treasury_features = Dense(300, activation='relu')(treasury_features)\n",
    "treasury_features = Dropout(0.2)(treasury_features)\n",
    "treasury_features = Dense(300, activation='relu')(treasury_features)\n",
    "\n",
    "# pipeline for inflation\n",
    "inflation_features = Dense(300, activation='relu')(inflation_input)\n",
    "inflation_features = Dense(300, activation='relu')(inflation_features)\n",
    "inflation_features = Dropout(0.2)(inflation_features)\n",
    "inflation_features = Dense(300, activation='relu')(inflation_features)\n",
    "\n",
    "# pipeline for CPI\n",
    "CPI_features = Dense(300, activation='relu')(CPI_input)\n",
    "CPI_features = Dense(300, activation='relu')(CPI_features)\n",
    "CPI_features = Dropout(0.2)(CPI_features)\n",
    "CPI_features = Dense(300, activation='relu')(CPI_features)\n",
    "\n",
    "# pipeline for exchange rate\n",
    "exchange_features = Dense(300, activation='relu')(exchange_input)\n",
    "exchange_features = Dense(300, activation='relu')(exchange_features)\n",
    "exchange_features = Dropout(0.2)(exchange_features)\n",
    "exchange_features = Dense(300, activation='relu')(exchange_features)\n",
    "\n",
    "# concatenation\n",
    "main = layers.concatenate([treasury_features, inflation_features, CPI_features, exchange_features], axis = 1)\n",
    "\n",
    "# output layer\n",
    "main = layers.Dense(200, activation='relu')(main)\n",
    "main = layers.Dense(200, activation='relu')(main)\n",
    "output = layers.Dense(1, name = \"ValueStock_PercentChange\")(main)\n",
    "\n",
    "# create the model\n",
    "model2 = keras.Model(\n",
    "    inputs = [treasury_input, inflation_input, CPI_input, exchange_input],\n",
    "    outputs = output\n",
    ")\n",
    "\n",
    "model2.summary()\n",
    "\n",
    "# specify loss function\n",
    "model2.compile(loss=\"mean_squared_error\" , optimizer=\"adam\", metrics=[\"mean_squared_error\"])\n",
    "\n",
    "# train the model\n",
    "history2 = model2.fit(train, \n",
    "                    validation_data=val,\n",
    "                    epochs = 20)"
   ]
  },
  {
   "cell_type": "code",
   "execution_count": 6,
   "id": "a62cf87f",
   "metadata": {},
   "outputs": [
    {
     "data": {
      "image/png": "[encoded data removed]",
      "text/plain": [
       "<Figure size 432x288 with 1 Axes>"
      ]
     },
     "metadata": {
      "needs_background": "light"
     },
     "output_type": "display_data"
    }
   ],
   "source": [
    "plt.plot(history2.history[\"mean_squared_error\"], label = \"training\")\n",
    "plt.plot(history2.history[\"val_mean_squared_error\"], label = \"validation\")\n",
    "plt.gca().set(xlabel = \"epoch\", ylabel = \"mean_squared_error\")\n",
    "plt.title(label = \"Prediction for Value Stocks Using Mixed Inputs Error Analysis\", loc = \"center\")\n",
    "plt.ylim(0.00003, 0.00020)\n",
    "plt.legend()\n",
    "\n",
    "plt.savefig(\"../images/value_mixed_features.png\")"
   ]
  },
  {
   "cell_type": "code",
   "execution_count": 40,
   "id": "f538b96b",
   "metadata": {},
   "outputs": [
    {
     "name": "stdout",
     "output_type": "stream",
     "text": [
      "WARNING:tensorflow:AutoGraph could not transform <function trace_model_call.<locals>._wrapped_model at 0x7feb0ac1da70> and will run it as-is.\n",
      "Please report this to the TensorFlow team. When filing the bug, set the verbosity to 10 (on Linux, `export AUTOGRAPH_VERBOSITY=10`) and attach the full output.\n",
      "Cause: module 'gast' has no attribute 'Constant'\n",
      "To silence this warning, decorate the function with @tf.autograph.experimental.do_not_convert\n"
     ]
    },
    {
     "name": "stderr",
     "output_type": "stream",
     "text": [
      "WARNING:tensorflow:AutoGraph could not transform <function trace_model_call.<locals>._wrapped_model at 0x7feb0ac1da70> and will run it as-is.\n",
      "Please report this to the TensorFlow team. When filing the bug, set the verbosity to 10 (on Linux, `export AUTOGRAPH_VERBOSITY=10`) and attach the full output.\n",
      "Cause: module 'gast' has no attribute 'Constant'\n",
      "To silence this warning, decorate the function with @tf.autograph.experimental.do_not_convert\n"
     ]
    },
    {
     "name": "stdout",
     "output_type": "stream",
     "text": [
      "WARNING: AutoGraph could not transform <function trace_model_call.<locals>._wrapped_model at 0x7feb0ac1da70> and will run it as-is.\n",
      "Please report this to the TensorFlow team. When filing the bug, set the verbosity to 10 (on Linux, `export AUTOGRAPH_VERBOSITY=10`) and attach the full output.\n",
      "Cause: module 'gast' has no attribute 'Constant'\n",
      "To silence this warning, decorate the function with @tf.autograph.experimental.do_not_convert\n"
     ]
    },
    {
     "name": "stderr",
     "output_type": "stream",
     "text": [
      "WARNING:absl:Function `_wrapped_model` contains input name(s) Treasury10yr_PercentChange, inflation5yr_PercentChange, CPI_PercentChange, exchange_PercentChange with unsupported characters which will be renamed to treasury10yr_percentchange, inflation5yr_percentchange, cpi_percentchange, exchange_percentchange in the SavedModel.\n"
     ]
    },
    {
     "name": "stdout",
     "output_type": "stream",
     "text": [
      "WARNING:tensorflow:AutoGraph could not transform <function canonicalize_signatures.<locals>.signature_wrapper at 0x7feb0acae440> and will run it as-is.\n",
      "Please report this to the TensorFlow team. When filing the bug, set the verbosity to 10 (on Linux, `export AUTOGRAPH_VERBOSITY=10`) and attach the full output.\n",
      "Cause: 'arguments' object has no attribute 'posonlyargs'\n",
      "To silence this warning, decorate the function with @tf.autograph.experimental.do_not_convert\n"
     ]
    },
    {
     "name": "stderr",
     "output_type": "stream",
     "text": [
      "WARNING:tensorflow:AutoGraph could not transform <function canonicalize_signatures.<locals>.signature_wrapper at 0x7feb0acae440> and will run it as-is.\n",
      "Please report this to the TensorFlow team. When filing the bug, set the verbosity to 10 (on Linux, `export AUTOGRAPH_VERBOSITY=10`) and attach the full output.\n",
      "Cause: 'arguments' object has no attribute 'posonlyargs'\n",
      "To silence this warning, decorate the function with @tf.autograph.experimental.do_not_convert\n"
     ]
    },
    {
     "name": "stdout",
     "output_type": "stream",
     "text": [
      "WARNING: AutoGraph could not transform <function canonicalize_signatures.<locals>.signature_wrapper at 0x7feb0acae440> and will run it as-is.\n",
      "Please report this to the TensorFlow team. When filing the bug, set the verbosity to 10 (on Linux, `export AUTOGRAPH_VERBOSITY=10`) and attach the full output.\n",
      "Cause: 'arguments' object has no attribute 'posonlyargs'\n",
      "To silence this warning, decorate the function with @tf.autograph.experimental.do_not_convert\n",
      "INFO:tensorflow:Assets written to: ram://1b6c043a-d9b4-4e84-9389-a197e3a7796c/assets\n"
     ]
    },
    {
     "name": "stderr",
     "output_type": "stream",
     "text": [
      "INFO:tensorflow:Assets written to: ram://1b6c043a-d9b4-4e84-9389-a197e3a7796c/assets\n"
     ]
    }
   ],
   "source": [
    "filename = 'mixed_regression_value.pkl'\n",
    "pickle.dump(model2, open(filename, 'wb'))"
   ]
  },
  {
   "cell_type": "code",
   "execution_count": 44,
   "id": "7adc27fd",
   "metadata": {},
   "outputs": [
    {
     "name": "stdout",
     "output_type": "stream",
     "text": [
      "WARNING:tensorflow:AutoGraph could not transform <function trace_model_call.<locals>._wrapped_model at 0x7feb0a544170> and will run it as-is.\n",
      "Please report this to the TensorFlow team. When filing the bug, set the verbosity to 10 (on Linux, `export AUTOGRAPH_VERBOSITY=10`) and attach the full output.\n",
      "Cause: module 'gast' has no attribute 'Constant'\n",
      "To silence this warning, decorate the function with @tf.autograph.experimental.do_not_convert\n"
     ]
    },
    {
     "name": "stderr",
     "output_type": "stream",
     "text": [
      "WARNING:tensorflow:AutoGraph could not transform <function trace_model_call.<locals>._wrapped_model at 0x7feb0a544170> and will run it as-is.\n",
      "Please report this to the TensorFlow team. When filing the bug, set the verbosity to 10 (on Linux, `export AUTOGRAPH_VERBOSITY=10`) and attach the full output.\n",
      "Cause: module 'gast' has no attribute 'Constant'\n",
      "To silence this warning, decorate the function with @tf.autograph.experimental.do_not_convert\n"
     ]
    },
    {
     "name": "stdout",
     "output_type": "stream",
     "text": [
      "WARNING: AutoGraph could not transform <function trace_model_call.<locals>._wrapped_model at 0x7feb0a544170> and will run it as-is.\n",
      "Please report this to the TensorFlow team. When filing the bug, set the verbosity to 10 (on Linux, `export AUTOGRAPH_VERBOSITY=10`) and attach the full output.\n",
      "Cause: module 'gast' has no attribute 'Constant'\n",
      "To silence this warning, decorate the function with @tf.autograph.experimental.do_not_convert\n"
     ]
    },
    {
     "name": "stderr",
     "output_type": "stream",
     "text": [
      "WARNING:absl:Function `_wrapped_model` contains input name(s) Treasury10yr_PercentChange, inflation5yr_PercentChange, CPI_PercentChange, exchange_PercentChange with unsupported characters which will be renamed to treasury10yr_percentchange, inflation5yr_percentchange, cpi_percentchange, exchange_percentchange in the SavedModel.\n"
     ]
    },
    {
     "name": "stdout",
     "output_type": "stream",
     "text": [
      "WARNING:tensorflow:AutoGraph could not transform <function canonicalize_signatures.<locals>.signature_wrapper at 0x7feb0a544d40> and will run it as-is.\n",
      "Please report this to the TensorFlow team. When filing the bug, set the verbosity to 10 (on Linux, `export AUTOGRAPH_VERBOSITY=10`) and attach the full output.\n",
      "Cause: 'arguments' object has no attribute 'posonlyargs'\n",
      "To silence this warning, decorate the function with @tf.autograph.experimental.do_not_convert\n"
     ]
    },
    {
     "name": "stderr",
     "output_type": "stream",
     "text": [
      "WARNING:tensorflow:AutoGraph could not transform <function canonicalize_signatures.<locals>.signature_wrapper at 0x7feb0a544d40> and will run it as-is.\n",
      "Please report this to the TensorFlow team. When filing the bug, set the verbosity to 10 (on Linux, `export AUTOGRAPH_VERBOSITY=10`) and attach the full output.\n",
      "Cause: 'arguments' object has no attribute 'posonlyargs'\n",
      "To silence this warning, decorate the function with @tf.autograph.experimental.do_not_convert\n"
     ]
    },
    {
     "name": "stdout",
     "output_type": "stream",
     "text": [
      "WARNING: AutoGraph could not transform <function canonicalize_signatures.<locals>.signature_wrapper at 0x7feb0a544d40> and will run it as-is.\n",
      "Please report this to the TensorFlow team. When filing the bug, set the verbosity to 10 (on Linux, `export AUTOGRAPH_VERBOSITY=10`) and attach the full output.\n",
      "Cause: 'arguments' object has no attribute 'posonlyargs'\n",
      "To silence this warning, decorate the function with @tf.autograph.experimental.do_not_convert\n",
      "INFO:tensorflow:Assets written to: mixed_regression_value/assets\n"
     ]
    },
    {
     "name": "stderr",
     "output_type": "stream",
     "text": [
      "INFO:tensorflow:Assets written to: mixed_regression_value/assets\n"
     ]
    }
   ],
   "source": [
    "model2.save('mixed_regression_value')"
   ]
  },
  {
   "cell_type": "code",
   "execution_count": 73,
   "id": "3539ea80",
   "metadata": {},
   "outputs": [],
   "source": [
    "test_data =  tf.data.Dataset.from_tensor_slices(\n",
    "    (\n",
    "        {\n",
    "            \"Treasury10yr_PercentChange\": np.array([0.5]).reshape(-1,1),\n",
    "            \"inflation5yr_PercentChange\": np.array([-0.5]).reshape(-1,1),\n",
    "            \"CPI_PercentChange\"         : np.array([0.5]).reshape(-1,1),\n",
    "            \"exchange_PercentChange\"    : np.array([0.5]).reshape(-1,1)\n",
    "        }\n",
    "    )\n",
    ")"
   ]
  },
  {
   "cell_type": "code",
   "execution_count": 74,
   "id": "29011886",
   "metadata": {
    "scrolled": true
   },
   "outputs": [
    {
     "data": {
      "text/plain": [
       "-0.00011632359"
      ]
     },
     "execution_count": 74,
     "metadata": {},
     "output_type": "execute_result"
    }
   ],
   "source": [
    "model2.predict(test_data)[0][0]"
   ]
  },
  {
   "cell_type": "code",
   "execution_count": null,
   "id": "c022e642",
   "metadata": {},
   "outputs": [],
   "source": []
  }
 ],
 "metadata": {
  "kernelspec": {
   "display_name": "Python [conda env:PIC16B] *",
   "language": "python",
   "name": "conda-env-PIC16B-py"
  },
  "language_info": {
   "codemirror_mode": {
    "name": "ipython",
    "version": 3
   },
   "file_extension": ".py",
   "mimetype": "text/x-python",
   "name": "python",
   "nbconvert_exporter": "python",
   "pygments_lexer": "ipython3",
   "version": "3.7.11"
  }
 },
 "nbformat": 4,
 "nbformat_minor": 5
}
